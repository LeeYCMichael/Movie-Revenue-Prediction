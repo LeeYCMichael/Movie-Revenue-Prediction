{
 "cells": [
  {
   "cell_type": "markdown",
   "metadata": {
    "id": "ti2ozNZ6L6Vf"
   },
   "source": [
    "# CZ1115 : Data Science and Artificial Intelligence (DSAI)\n",
    "## Mini Project \n",
    "#### Group Members:\n",
    "- Lee Yew Chuan, Michael<br>\n",
    "- Teo I-Jen<br>\n",
    "- Chua Wen Rong, Jonathan<br>\n",
    "\n",
    "#### Data Sets / API Explored:\n",
    "- Movie Data Base: https://developers.themoviedb.org/3/discover/movie-discover\n",
    "\n"
   ]
  },
  {
   "cell_type": "markdown",
   "metadata": {},
   "source": [
    "## Problem Statement:\n",
    "### If we were movie directors, how do we ensure our movie does well?    \n",
    "In this notebook, we will be taking a look at which variables affects the revenue of a movie.\n",
    "####  Table of Contents:\n",
    "   1. Dataset Preparation\n",
    "   2. Exploratory Data Analysis & Analytic Visualisation\n",
    "   3. Explore Machine Learning with Random Forest Regressor\n",
    "   4. Predictions (model performance on predicting 'revenue')\n"
   ]
  },
  {
   "cell_type": "markdown",
   "metadata": {},
   "source": [
    "# 1. Dataset Preparation\n",
    ">In this section, we will be preparing and cleaning our datasets."
   ]
  },
  {
   "cell_type": "code",
   "execution_count": 4,
   "metadata": {
    "id": "AcRrTE_eBz42"
   },
   "outputs": [],
   "source": [
    "# import config # to hide TMDB API keys\n",
    "import requests # to make TMDB API calls\n",
    "import locale # to format currency as USD\n",
    "locale.setlocale( locale.LC_ALL, '' )\n",
    "\n",
    "import numpy as np\n",
    "import pandas as pd\n",
    "import matplotlib\n",
    "import matplotlib.pyplot as plt\n",
    "import seaborn as sb\n",
    "from matplotlib.ticker import FuncFormatter # to format currency on charts axis\n",
    "\n",
    "api_key = '34ec81365605658080e05ea53cbf69f2'"
   ]
  },
  {
   "cell_type": "markdown",
   "metadata": {
    "id": "iEGIt7Nfla7m"
   },
   "source": [
    "### Identification of Potentially Useful Variables\n",
    "\n",
    ">We have selected [\"film\", \"release_date\", \"revenue\", \"budget\", \"popularity\", \"vote_count\", \"runtime\", \"genres\", \"adult\", \"original_language\"] from the API as potential variables.\n",
    "We'll create our main dataframe here."
   ]
  },
  {
   "cell_type": "code",
   "execution_count": 5,
   "metadata": {
    "id": "l3p8eUbRB-Js"
   },
   "outputs": [],
   "source": [
    "# Initialise an empty dataframe\n",
    "columns = [\"film\", \"release_date\", \"revenue\", \"budget\", \"popularity\", \"vote_count\", \"runtime\", \"genres\", \"adult\", \"original_language\"]\n",
    "df = pd.DataFrame(columns=columns)\n",
    "dfTemp = pd.DataFrame(columns=columns)"
   ]
  },
  {
   "cell_type": "code",
   "execution_count": 6,
   "metadata": {
    "id": "6mKkW_K3CAWq"
   },
   "outputs": [],
   "source": [
    "for pageNum in range(50, 420):\n",
    "    # Call new page to get list of movies\n",
    "    response = requests.get(\"https://api.themoviedb.org/3/discover/movie?api_key=34ec81365605658080e05ea53cbf69f2&language=en-US&include_adult=false&include_video=false&page=\" + str(pageNum))\n",
    "\n",
    "    # Store the parsed JSON\n",
    "    listMovies = response.json()\n",
    "\n",
    "    # Get list of movies \n",
    "    listMovies = listMovies['results']\n",
    "    \n",
    "    for movie in listMovies:\n",
    "        # Get the details of a specific movie\n",
    "        movie_details = requests.get('https://api.themoviedb.org/3/movie/'+ str(movie['id']) +'?api_key='+ '34ec81365605658080e05ea53cbf69f2'+'&language=en-US')\n",
    "        movie_details = movie_details.json()\n",
    "        \n",
    "        # Append entry into the dataframe\n",
    "        try:\n",
    "          dfTemp.loc[len(dfTemp)]=[movie['title'], movie_details[\"release_date\"], movie_details['revenue'], movie_details['budget'], movie_details[\"popularity\"], movie_details[\"vote_count\"],\\\n",
    "movie_details[\"runtime\"], movie_details[\"genres\"], movie_details[\"adult\"], movie_details[\"original_language\"]]\n",
    "        except KeyError:\n",
    "          pass\n",
    "    \n",
    "    # concat temp dataframe into master\n",
    "    df = pd.concat([df, dfTemp])\n",
    "\n",
    "    # empty the temp dataframe\n",
    "    dfTemp = dfTemp[0:0]"
   ]
  },
  {
   "cell_type": "markdown",
   "metadata": {
    "id": "Wy2V3CpFn8wg"
   },
   "source": [
    "### Unique Movie Index\n",
    ">We gave the movies unique indexes, which allows us to identify them easily."
   ]
  },
  {
   "cell_type": "code",
   "execution_count": 7,
   "metadata": {
    "id": "LnXXSFyPpVCW"
   },
   "outputs": [
    {
     "data": {
      "text/html": [
       "<div>\n",
       "<style scoped>\n",
       "    .dataframe tbody tr th:only-of-type {\n",
       "        vertical-align: middle;\n",
       "    }\n",
       "\n",
       "    .dataframe tbody tr th {\n",
       "        vertical-align: top;\n",
       "    }\n",
       "\n",
       "    .dataframe thead th {\n",
       "        text-align: right;\n",
       "    }\n",
       "</style>\n",
       "<table border=\"1\" class=\"dataframe\">\n",
       "  <thead>\n",
       "    <tr style=\"text-align: right;\">\n",
       "      <th></th>\n",
       "      <th>film</th>\n",
       "      <th>release_date</th>\n",
       "      <th>revenue</th>\n",
       "      <th>budget</th>\n",
       "      <th>popularity</th>\n",
       "      <th>vote_count</th>\n",
       "      <th>runtime</th>\n",
       "      <th>genres</th>\n",
       "      <th>adult</th>\n",
       "      <th>original_language</th>\n",
       "    </tr>\n",
       "  </thead>\n",
       "  <tbody>\n",
       "    <tr>\n",
       "      <th>0</th>\n",
       "      <td>The Intouchables</td>\n",
       "      <td>2011-11-02</td>\n",
       "      <td>426588510</td>\n",
       "      <td>13000000</td>\n",
       "      <td>43.876</td>\n",
       "      <td>13226</td>\n",
       "      <td>113</td>\n",
       "      <td>[{'id': 18, 'name': 'Drama'}, {'id': 35, 'name...</td>\n",
       "      <td>False</td>\n",
       "      <td>fr</td>\n",
       "    </tr>\n",
       "    <tr>\n",
       "      <th>1</th>\n",
       "      <td>A Dog's Journey</td>\n",
       "      <td>2019-05-03</td>\n",
       "      <td>2520000</td>\n",
       "      <td>0</td>\n",
       "      <td>43.845</td>\n",
       "      <td>886</td>\n",
       "      <td>120</td>\n",
       "      <td>[{'id': 10751, 'name': 'Family'}, {'id': 12, '...</td>\n",
       "      <td>False</td>\n",
       "      <td>en</td>\n",
       "    </tr>\n",
       "    <tr>\n",
       "      <th>2</th>\n",
       "      <td>Death Note</td>\n",
       "      <td>2017-08-25</td>\n",
       "      <td>0</td>\n",
       "      <td>40000000</td>\n",
       "      <td>43.749</td>\n",
       "      <td>3185</td>\n",
       "      <td>101</td>\n",
       "      <td>[{'id': 14, 'name': 'Fantasy'}, {'id': 27, 'na...</td>\n",
       "      <td>False</td>\n",
       "      <td>en</td>\n",
       "    </tr>\n",
       "    <tr>\n",
       "      <th>3</th>\n",
       "      <td>Need for Speed</td>\n",
       "      <td>2014-03-13</td>\n",
       "      <td>203277636</td>\n",
       "      <td>66000000</td>\n",
       "      <td>43.748</td>\n",
       "      <td>3221</td>\n",
       "      <td>132</td>\n",
       "      <td>[{'id': 28, 'name': 'Action'}, {'id': 80, 'nam...</td>\n",
       "      <td>False</td>\n",
       "      <td>en</td>\n",
       "    </tr>\n",
       "    <tr>\n",
       "      <th>4</th>\n",
       "      <td>Open 24 Hours</td>\n",
       "      <td>2018-08-27</td>\n",
       "      <td>0</td>\n",
       "      <td>0</td>\n",
       "      <td>43.663</td>\n",
       "      <td>51</td>\n",
       "      <td>102</td>\n",
       "      <td>[{'id': 27, 'name': 'Horror'}, {'id': 53, 'nam...</td>\n",
       "      <td>False</td>\n",
       "      <td>en</td>\n",
       "    </tr>\n",
       "    <tr>\n",
       "      <th>...</th>\n",
       "      <td>...</td>\n",
       "      <td>...</td>\n",
       "      <td>...</td>\n",
       "      <td>...</td>\n",
       "      <td>...</td>\n",
       "      <td>...</td>\n",
       "      <td>...</td>\n",
       "      <td>...</td>\n",
       "      <td>...</td>\n",
       "      <td>...</td>\n",
       "    </tr>\n",
       "    <tr>\n",
       "      <th>7394</th>\n",
       "      <td>Puella Magi Madoka Magica the Movie Part III: ...</td>\n",
       "      <td>2013-10-26</td>\n",
       "      <td>12947880</td>\n",
       "      <td>0</td>\n",
       "      <td>10.986</td>\n",
       "      <td>113</td>\n",
       "      <td>116</td>\n",
       "      <td>[{'id': 9648, 'name': 'Mystery'}, {'id': 16, '...</td>\n",
       "      <td>False</td>\n",
       "      <td>ja</td>\n",
       "    </tr>\n",
       "    <tr>\n",
       "      <th>7395</th>\n",
       "      <td>Hot Rod</td>\n",
       "      <td>2007-08-03</td>\n",
       "      <td>14334401</td>\n",
       "      <td>0</td>\n",
       "      <td>10.986</td>\n",
       "      <td>678</td>\n",
       "      <td>88</td>\n",
       "      <td>[{'id': 35, 'name': 'Comedy'}, {'id': 28, 'nam...</td>\n",
       "      <td>False</td>\n",
       "      <td>en</td>\n",
       "    </tr>\n",
       "    <tr>\n",
       "      <th>7396</th>\n",
       "      <td>Murder at 1600</td>\n",
       "      <td>1997-04-18</td>\n",
       "      <td>25804707</td>\n",
       "      <td>40000000</td>\n",
       "      <td>10.985</td>\n",
       "      <td>337</td>\n",
       "      <td>107</td>\n",
       "      <td>[{'id': 28, 'name': 'Action'}, {'id': 18, 'nam...</td>\n",
       "      <td>False</td>\n",
       "      <td>en</td>\n",
       "    </tr>\n",
       "    <tr>\n",
       "      <th>7397</th>\n",
       "      <td>Rocambola</td>\n",
       "      <td>2019-10-25</td>\n",
       "      <td>0</td>\n",
       "      <td>0</td>\n",
       "      <td>10.984</td>\n",
       "      <td>5</td>\n",
       "      <td>83</td>\n",
       "      <td>[{'id': 27, 'name': 'Horror'}]</td>\n",
       "      <td>False</td>\n",
       "      <td>es</td>\n",
       "    </tr>\n",
       "    <tr>\n",
       "      <th>7398</th>\n",
       "      <td>The Onion Movie</td>\n",
       "      <td>2008-05-31</td>\n",
       "      <td>0</td>\n",
       "      <td>0</td>\n",
       "      <td>10.984</td>\n",
       "      <td>145</td>\n",
       "      <td>80</td>\n",
       "      <td>[{'id': 35, 'name': 'Comedy'}]</td>\n",
       "      <td>False</td>\n",
       "      <td>en</td>\n",
       "    </tr>\n",
       "  </tbody>\n",
       "</table>\n",
       "<p>7399 rows × 10 columns</p>\n",
       "</div>"
      ],
      "text/plain": [
       "                                                   film release_date  \\\n",
       "0                                      The Intouchables   2011-11-02   \n",
       "1                                       A Dog's Journey   2019-05-03   \n",
       "2                                            Death Note   2017-08-25   \n",
       "3                                        Need for Speed   2014-03-13   \n",
       "4                                         Open 24 Hours   2018-08-27   \n",
       "...                                                 ...          ...   \n",
       "7394  Puella Magi Madoka Magica the Movie Part III: ...   2013-10-26   \n",
       "7395                                            Hot Rod   2007-08-03   \n",
       "7396                                     Murder at 1600   1997-04-18   \n",
       "7397                                          Rocambola   2019-10-25   \n",
       "7398                                    The Onion Movie   2008-05-31   \n",
       "\n",
       "        revenue    budget  popularity vote_count runtime  \\\n",
       "0     426588510  13000000      43.876      13226     113   \n",
       "1       2520000         0      43.845        886     120   \n",
       "2             0  40000000      43.749       3185     101   \n",
       "3     203277636  66000000      43.748       3221     132   \n",
       "4             0         0      43.663         51     102   \n",
       "...         ...       ...         ...        ...     ...   \n",
       "7394   12947880         0      10.986        113     116   \n",
       "7395   14334401         0      10.986        678      88   \n",
       "7396   25804707  40000000      10.985        337     107   \n",
       "7397          0         0      10.984          5      83   \n",
       "7398          0         0      10.984        145      80   \n",
       "\n",
       "                                                 genres  adult  \\\n",
       "0     [{'id': 18, 'name': 'Drama'}, {'id': 35, 'name...  False   \n",
       "1     [{'id': 10751, 'name': 'Family'}, {'id': 12, '...  False   \n",
       "2     [{'id': 14, 'name': 'Fantasy'}, {'id': 27, 'na...  False   \n",
       "3     [{'id': 28, 'name': 'Action'}, {'id': 80, 'nam...  False   \n",
       "4     [{'id': 27, 'name': 'Horror'}, {'id': 53, 'nam...  False   \n",
       "...                                                 ...    ...   \n",
       "7394  [{'id': 9648, 'name': 'Mystery'}, {'id': 16, '...  False   \n",
       "7395  [{'id': 35, 'name': 'Comedy'}, {'id': 28, 'nam...  False   \n",
       "7396  [{'id': 28, 'name': 'Action'}, {'id': 18, 'nam...  False   \n",
       "7397                     [{'id': 27, 'name': 'Horror'}]  False   \n",
       "7398                     [{'id': 35, 'name': 'Comedy'}]  False   \n",
       "\n",
       "     original_language  \n",
       "0                   fr  \n",
       "1                   en  \n",
       "2                   en  \n",
       "3                   en  \n",
       "4                   en  \n",
       "...                ...  \n",
       "7394                ja  \n",
       "7395                en  \n",
       "7396                en  \n",
       "7397                es  \n",
       "7398                en  \n",
       "\n",
       "[7399 rows x 10 columns]"
      ]
     },
     "execution_count": 7,
     "metadata": {},
     "output_type": "execute_result"
    }
   ],
   "source": [
    "# Reset the index\n",
    "df.reset_index(drop=True, inplace=True)\n",
    "\n",
    "# print the dataframe\n",
    "df"
   ]
  },
  {
   "cell_type": "markdown",
   "metadata": {
    "id": "7XNIVOyJoZOd"
   },
   "source": [
    "### Quick Check on Types of Variables\n",
    ">Here, we do a check on the types of variables."
   ]
  },
  {
   "cell_type": "code",
   "execution_count": 8,
   "metadata": {
    "id": "Nq_A-oG3olb5"
   },
   "outputs": [
    {
     "data": {
      "text/plain": [
       "film                  object\n",
       "release_date          object\n",
       "revenue               object\n",
       "budget                object\n",
       "popularity           float64\n",
       "vote_count            object\n",
       "runtime               object\n",
       "genres                object\n",
       "adult                 object\n",
       "original_language     object\n",
       "dtype: object"
      ]
     },
     "execution_count": 8,
     "metadata": {},
     "output_type": "execute_result"
    }
   ],
   "source": [
    "df.dtypes"
   ]
  },
  {
   "cell_type": "markdown",
   "metadata": {
    "id": "J0ZrdWQrOwxt"
   },
   "source": [
    ">Seems like majority of the datasets are of 'object' datatypes."
   ]
  },
  {
   "cell_type": "markdown",
   "metadata": {
    "id": "uo4smy6DveKc"
   },
   "source": [
    "## Looking At Our Variables Individually\n"
   ]
  },
  {
   "cell_type": "markdown",
   "metadata": {},
   "source": [
    "### Films\n",
    "- Based on our experience, there might be repeated films, and this might not be desirable."
   ]
  },
  {
   "cell_type": "code",
   "execution_count": 9,
   "metadata": {
    "id": "cPdIY4HBvbCe"
   },
   "outputs": [
    {
     "name": "stdout",
     "output_type": "stream",
     "text": [
      "Number of cateogories : 7245\n",
      "Fantastic Four                 3\n",
      "Halloween                      3\n",
      "The Call                       3\n",
      "Les Misérables                 3\n",
      "Beauty and the Beast           3\n",
      "                              ..\n",
      "Tron                           1\n",
      "Mamma Mia! Here We Go Again    1\n",
      "Guadalupe-Kings                1\n",
      "Devil's Due                    1\n",
      "Extortion                      1\n",
      "Name: film, Length: 7245, dtype: int64\n"
     ]
    }
   ],
   "source": [
    "# Print the unique categories in films\n",
    "# This gets a summary of the repeated titles in films\n",
    "print(\"Number of cateogories :\", len(df[\"film\"].unique()))\n",
    "print(df[\"film\"].value_counts())"
   ]
  },
  {
   "cell_type": "markdown",
   "metadata": {
    "id": "c0YwWwnXv3Vc"
   },
   "source": [
    "### Let's Remove The Repeated Films\n"
   ]
  },
  {
   "cell_type": "code",
   "execution_count": 10,
   "metadata": {
    "id": "4-0_5T0_szz-"
   },
   "outputs": [],
   "source": [
    "df = df.drop_duplicates(subset=['film'])"
   ]
  },
  {
   "cell_type": "markdown",
   "metadata": {
    "id": "xul05DHwKBRz"
   },
   "source": [
    "### Release Date "
   ]
  },
  {
   "cell_type": "code",
   "execution_count": 11,
   "metadata": {
    "id": "EkC-ht6sKB2o"
   },
   "outputs": [
    {
     "data": {
      "text/plain": [
       "0    2011-11-02\n",
       "1    2019-05-03\n",
       "2    2017-08-25\n",
       "3    2014-03-13\n",
       "4    2018-08-27\n",
       "Name: release_date, dtype: object"
      ]
     },
     "execution_count": 11,
     "metadata": {},
     "output_type": "execute_result"
    }
   ],
   "source": [
    "# Print the unique categories in \"release_date\"\n",
    "# This gets a summary of the freqeuncies of each of the categories in release_date\n",
    "df[\"release_date\"].head()"
   ]
  },
  {
   "cell_type": "markdown",
   "metadata": {
    "id": "sFvoLlxkMTA6"
   },
   "source": [
    "### Creating Columns For Release_Year And Release_Month\n",
    ">Release month and release year might potentially be useful in predicting Revenue."
   ]
  },
  {
   "cell_type": "code",
   "execution_count": 12,
   "metadata": {
    "id": "tOn58ZhCF1B2"
   },
   "outputs": [
    {
     "name": "stderr",
     "output_type": "stream",
     "text": [
      "<ipython-input-12-5e0e7a6bef77>:2: SettingWithCopyWarning: \n",
      "A value is trying to be set on a copy of a slice from a DataFrame.\n",
      "Try using .loc[row_indexer,col_indexer] = value instead\n",
      "\n",
      "See the caveats in the documentation: https://pandas.pydata.org/pandas-docs/stable/user_guide/indexing.html#returning-a-view-versus-a-copy\n",
      "  df['release_month'] = pd.DatetimeIndex(df['release_date']).month\n",
      "<ipython-input-12-5e0e7a6bef77>:3: SettingWithCopyWarning: \n",
      "A value is trying to be set on a copy of a slice from a DataFrame.\n",
      "Try using .loc[row_indexer,col_indexer] = value instead\n",
      "\n",
      "See the caveats in the documentation: https://pandas.pydata.org/pandas-docs/stable/user_guide/indexing.html#returning-a-view-versus-a-copy\n",
      "  df['release_year'] = pd.DatetimeIndex(df['release_date']).year\n"
     ]
    }
   ],
   "source": [
    "# Creating columns for release_month and release_year\n",
    "df['release_month'] = pd.DatetimeIndex(df['release_date']).month\n",
    "df['release_year'] = pd.DatetimeIndex(df['release_date']).year\n",
    "df = df[[\"film\", \"release_date\", \"release_year\", \"release_month\", \"revenue\", \"budget\", \"popularity\", \"vote_count\", \"runtime\", \"genres\", \"adult\", \"original_language\"]]"
   ]
  },
  {
   "cell_type": "markdown",
   "metadata": {
    "id": "vU7roeH3MIw2"
   },
   "source": [
    "### Release Month\n",
    ">We should now have a new column called release_month, lets print out our dataframe to confirm that. "
   ]
  },
  {
   "cell_type": "code",
   "execution_count": 13,
   "metadata": {
    "id": "Ai3_7NKPJb8S"
   },
   "outputs": [
    {
     "data": {
      "text/html": [
       "<div>\n",
       "<style scoped>\n",
       "    .dataframe tbody tr th:only-of-type {\n",
       "        vertical-align: middle;\n",
       "    }\n",
       "\n",
       "    .dataframe tbody tr th {\n",
       "        vertical-align: top;\n",
       "    }\n",
       "\n",
       "    .dataframe thead th {\n",
       "        text-align: right;\n",
       "    }\n",
       "</style>\n",
       "<table border=\"1\" class=\"dataframe\">\n",
       "  <thead>\n",
       "    <tr style=\"text-align: right;\">\n",
       "      <th></th>\n",
       "      <th>film</th>\n",
       "      <th>release_date</th>\n",
       "      <th>release_year</th>\n",
       "      <th>release_month</th>\n",
       "      <th>revenue</th>\n",
       "      <th>budget</th>\n",
       "      <th>popularity</th>\n",
       "      <th>vote_count</th>\n",
       "      <th>runtime</th>\n",
       "      <th>genres</th>\n",
       "      <th>adult</th>\n",
       "      <th>original_language</th>\n",
       "    </tr>\n",
       "  </thead>\n",
       "  <tbody>\n",
       "    <tr>\n",
       "      <th>0</th>\n",
       "      <td>The Intouchables</td>\n",
       "      <td>2011-11-02</td>\n",
       "      <td>2011.0</td>\n",
       "      <td>11.0</td>\n",
       "      <td>426588510</td>\n",
       "      <td>13000000</td>\n",
       "      <td>43.876</td>\n",
       "      <td>13226</td>\n",
       "      <td>113</td>\n",
       "      <td>[{'id': 18, 'name': 'Drama'}, {'id': 35, 'name...</td>\n",
       "      <td>False</td>\n",
       "      <td>fr</td>\n",
       "    </tr>\n",
       "    <tr>\n",
       "      <th>1</th>\n",
       "      <td>A Dog's Journey</td>\n",
       "      <td>2019-05-03</td>\n",
       "      <td>2019.0</td>\n",
       "      <td>5.0</td>\n",
       "      <td>2520000</td>\n",
       "      <td>0</td>\n",
       "      <td>43.845</td>\n",
       "      <td>886</td>\n",
       "      <td>120</td>\n",
       "      <td>[{'id': 10751, 'name': 'Family'}, {'id': 12, '...</td>\n",
       "      <td>False</td>\n",
       "      <td>en</td>\n",
       "    </tr>\n",
       "    <tr>\n",
       "      <th>2</th>\n",
       "      <td>Death Note</td>\n",
       "      <td>2017-08-25</td>\n",
       "      <td>2017.0</td>\n",
       "      <td>8.0</td>\n",
       "      <td>0</td>\n",
       "      <td>40000000</td>\n",
       "      <td>43.749</td>\n",
       "      <td>3185</td>\n",
       "      <td>101</td>\n",
       "      <td>[{'id': 14, 'name': 'Fantasy'}, {'id': 27, 'na...</td>\n",
       "      <td>False</td>\n",
       "      <td>en</td>\n",
       "    </tr>\n",
       "    <tr>\n",
       "      <th>3</th>\n",
       "      <td>Need for Speed</td>\n",
       "      <td>2014-03-13</td>\n",
       "      <td>2014.0</td>\n",
       "      <td>3.0</td>\n",
       "      <td>203277636</td>\n",
       "      <td>66000000</td>\n",
       "      <td>43.748</td>\n",
       "      <td>3221</td>\n",
       "      <td>132</td>\n",
       "      <td>[{'id': 28, 'name': 'Action'}, {'id': 80, 'nam...</td>\n",
       "      <td>False</td>\n",
       "      <td>en</td>\n",
       "    </tr>\n",
       "    <tr>\n",
       "      <th>4</th>\n",
       "      <td>Open 24 Hours</td>\n",
       "      <td>2018-08-27</td>\n",
       "      <td>2018.0</td>\n",
       "      <td>8.0</td>\n",
       "      <td>0</td>\n",
       "      <td>0</td>\n",
       "      <td>43.663</td>\n",
       "      <td>51</td>\n",
       "      <td>102</td>\n",
       "      <td>[{'id': 27, 'name': 'Horror'}, {'id': 53, 'nam...</td>\n",
       "      <td>False</td>\n",
       "      <td>en</td>\n",
       "    </tr>\n",
       "  </tbody>\n",
       "</table>\n",
       "</div>"
      ],
      "text/plain": [
       "               film release_date  release_year  release_month    revenue  \\\n",
       "0  The Intouchables   2011-11-02        2011.0           11.0  426588510   \n",
       "1   A Dog's Journey   2019-05-03        2019.0            5.0    2520000   \n",
       "2        Death Note   2017-08-25        2017.0            8.0          0   \n",
       "3    Need for Speed   2014-03-13        2014.0            3.0  203277636   \n",
       "4     Open 24 Hours   2018-08-27        2018.0            8.0          0   \n",
       "\n",
       "     budget  popularity vote_count runtime  \\\n",
       "0  13000000      43.876      13226     113   \n",
       "1         0      43.845        886     120   \n",
       "2  40000000      43.749       3185     101   \n",
       "3  66000000      43.748       3221     132   \n",
       "4         0      43.663         51     102   \n",
       "\n",
       "                                              genres  adult original_language  \n",
       "0  [{'id': 18, 'name': 'Drama'}, {'id': 35, 'name...  False                fr  \n",
       "1  [{'id': 10751, 'name': 'Family'}, {'id': 12, '...  False                en  \n",
       "2  [{'id': 14, 'name': 'Fantasy'}, {'id': 27, 'na...  False                en  \n",
       "3  [{'id': 28, 'name': 'Action'}, {'id': 80, 'nam...  False                en  \n",
       "4  [{'id': 27, 'name': 'Horror'}, {'id': 53, 'nam...  False                en  "
      ]
     },
     "execution_count": 13,
     "metadata": {},
     "output_type": "execute_result"
    }
   ],
   "source": [
    "df.head()"
   ]
  },
  {
   "cell_type": "markdown",
   "metadata": {},
   "source": [
    "**It is clear that movies are released every month of the year. Since there are only 12 months in a year, this data clearly has to be categorical.**"
   ]
  },
  {
   "cell_type": "code",
   "execution_count": 14,
   "metadata": {
    "id": "qQmFpbiEPBE2"
   },
   "outputs": [],
   "source": [
    "# Numbers of movies released per month\n",
    "df[\"release_month\"].value_counts()\n",
    "\n",
    "# Covert to catergory data type\n",
    "df[\"release_month\"] = df[\"release_month\"].astype('category')"
   ]
  },
  {
   "cell_type": "markdown",
   "metadata": {},
   "source": [
    "### Release Year\n",
    ">We noticed that there were movies that were really old. However, we feel that it is only right that our model should predict the revenue of movies that aren't too old. As a benchmark, we will take movies that are released after 2010. "
   ]
  },
  {
   "cell_type": "code",
   "execution_count": 15,
   "metadata": {
    "id": "H2yP2dkqUUDX"
   },
   "outputs": [
    {
     "data": {
      "text/html": [
       "<div>\n",
       "<style scoped>\n",
       "    .dataframe tbody tr th:only-of-type {\n",
       "        vertical-align: middle;\n",
       "    }\n",
       "\n",
       "    .dataframe tbody tr th {\n",
       "        vertical-align: top;\n",
       "    }\n",
       "\n",
       "    .dataframe thead th {\n",
       "        text-align: right;\n",
       "    }\n",
       "</style>\n",
       "<table border=\"1\" class=\"dataframe\">\n",
       "  <thead>\n",
       "    <tr style=\"text-align: right;\">\n",
       "      <th></th>\n",
       "      <th>film</th>\n",
       "      <th>release_date</th>\n",
       "      <th>release_year</th>\n",
       "      <th>release_month</th>\n",
       "      <th>revenue</th>\n",
       "      <th>budget</th>\n",
       "      <th>popularity</th>\n",
       "      <th>vote_count</th>\n",
       "      <th>runtime</th>\n",
       "      <th>genres</th>\n",
       "      <th>adult</th>\n",
       "      <th>original_language</th>\n",
       "    </tr>\n",
       "  </thead>\n",
       "  <tbody>\n",
       "    <tr>\n",
       "      <th>0</th>\n",
       "      <td>The Intouchables</td>\n",
       "      <td>2011-11-02</td>\n",
       "      <td>2011.0</td>\n",
       "      <td>11.0</td>\n",
       "      <td>426588510</td>\n",
       "      <td>13000000</td>\n",
       "      <td>43.876</td>\n",
       "      <td>13226</td>\n",
       "      <td>113</td>\n",
       "      <td>[{'id': 18, 'name': 'Drama'}, {'id': 35, 'name...</td>\n",
       "      <td>False</td>\n",
       "      <td>fr</td>\n",
       "    </tr>\n",
       "    <tr>\n",
       "      <th>1</th>\n",
       "      <td>A Dog's Journey</td>\n",
       "      <td>2019-05-03</td>\n",
       "      <td>2019.0</td>\n",
       "      <td>5.0</td>\n",
       "      <td>2520000</td>\n",
       "      <td>0</td>\n",
       "      <td>43.845</td>\n",
       "      <td>886</td>\n",
       "      <td>120</td>\n",
       "      <td>[{'id': 10751, 'name': 'Family'}, {'id': 12, '...</td>\n",
       "      <td>False</td>\n",
       "      <td>en</td>\n",
       "    </tr>\n",
       "    <tr>\n",
       "      <th>2</th>\n",
       "      <td>Death Note</td>\n",
       "      <td>2017-08-25</td>\n",
       "      <td>2017.0</td>\n",
       "      <td>8.0</td>\n",
       "      <td>0</td>\n",
       "      <td>40000000</td>\n",
       "      <td>43.749</td>\n",
       "      <td>3185</td>\n",
       "      <td>101</td>\n",
       "      <td>[{'id': 14, 'name': 'Fantasy'}, {'id': 27, 'na...</td>\n",
       "      <td>False</td>\n",
       "      <td>en</td>\n",
       "    </tr>\n",
       "    <tr>\n",
       "      <th>3</th>\n",
       "      <td>Need for Speed</td>\n",
       "      <td>2014-03-13</td>\n",
       "      <td>2014.0</td>\n",
       "      <td>3.0</td>\n",
       "      <td>203277636</td>\n",
       "      <td>66000000</td>\n",
       "      <td>43.748</td>\n",
       "      <td>3221</td>\n",
       "      <td>132</td>\n",
       "      <td>[{'id': 28, 'name': 'Action'}, {'id': 80, 'nam...</td>\n",
       "      <td>False</td>\n",
       "      <td>en</td>\n",
       "    </tr>\n",
       "    <tr>\n",
       "      <th>4</th>\n",
       "      <td>Open 24 Hours</td>\n",
       "      <td>2018-08-27</td>\n",
       "      <td>2018.0</td>\n",
       "      <td>8.0</td>\n",
       "      <td>0</td>\n",
       "      <td>0</td>\n",
       "      <td>43.663</td>\n",
       "      <td>51</td>\n",
       "      <td>102</td>\n",
       "      <td>[{'id': 27, 'name': 'Horror'}, {'id': 53, 'nam...</td>\n",
       "      <td>False</td>\n",
       "      <td>en</td>\n",
       "    </tr>\n",
       "    <tr>\n",
       "      <th>...</th>\n",
       "      <td>...</td>\n",
       "      <td>...</td>\n",
       "      <td>...</td>\n",
       "      <td>...</td>\n",
       "      <td>...</td>\n",
       "      <td>...</td>\n",
       "      <td>...</td>\n",
       "      <td>...</td>\n",
       "      <td>...</td>\n",
       "      <td>...</td>\n",
       "      <td>...</td>\n",
       "      <td>...</td>\n",
       "    </tr>\n",
       "    <tr>\n",
       "      <th>7394</th>\n",
       "      <td>Puella Magi Madoka Magica the Movie Part III: ...</td>\n",
       "      <td>2013-10-26</td>\n",
       "      <td>2013.0</td>\n",
       "      <td>10.0</td>\n",
       "      <td>12947880</td>\n",
       "      <td>0</td>\n",
       "      <td>10.986</td>\n",
       "      <td>113</td>\n",
       "      <td>116</td>\n",
       "      <td>[{'id': 9648, 'name': 'Mystery'}, {'id': 16, '...</td>\n",
       "      <td>False</td>\n",
       "      <td>ja</td>\n",
       "    </tr>\n",
       "    <tr>\n",
       "      <th>7395</th>\n",
       "      <td>Hot Rod</td>\n",
       "      <td>2007-08-03</td>\n",
       "      <td>2007.0</td>\n",
       "      <td>8.0</td>\n",
       "      <td>14334401</td>\n",
       "      <td>0</td>\n",
       "      <td>10.986</td>\n",
       "      <td>678</td>\n",
       "      <td>88</td>\n",
       "      <td>[{'id': 35, 'name': 'Comedy'}, {'id': 28, 'nam...</td>\n",
       "      <td>False</td>\n",
       "      <td>en</td>\n",
       "    </tr>\n",
       "    <tr>\n",
       "      <th>7396</th>\n",
       "      <td>Murder at 1600</td>\n",
       "      <td>1997-04-18</td>\n",
       "      <td>1997.0</td>\n",
       "      <td>4.0</td>\n",
       "      <td>25804707</td>\n",
       "      <td>40000000</td>\n",
       "      <td>10.985</td>\n",
       "      <td>337</td>\n",
       "      <td>107</td>\n",
       "      <td>[{'id': 28, 'name': 'Action'}, {'id': 18, 'nam...</td>\n",
       "      <td>False</td>\n",
       "      <td>en</td>\n",
       "    </tr>\n",
       "    <tr>\n",
       "      <th>7397</th>\n",
       "      <td>Rocambola</td>\n",
       "      <td>2019-10-25</td>\n",
       "      <td>2019.0</td>\n",
       "      <td>10.0</td>\n",
       "      <td>0</td>\n",
       "      <td>0</td>\n",
       "      <td>10.984</td>\n",
       "      <td>5</td>\n",
       "      <td>83</td>\n",
       "      <td>[{'id': 27, 'name': 'Horror'}]</td>\n",
       "      <td>False</td>\n",
       "      <td>es</td>\n",
       "    </tr>\n",
       "    <tr>\n",
       "      <th>7398</th>\n",
       "      <td>The Onion Movie</td>\n",
       "      <td>2008-05-31</td>\n",
       "      <td>2008.0</td>\n",
       "      <td>5.0</td>\n",
       "      <td>0</td>\n",
       "      <td>0</td>\n",
       "      <td>10.984</td>\n",
       "      <td>145</td>\n",
       "      <td>80</td>\n",
       "      <td>[{'id': 35, 'name': 'Comedy'}]</td>\n",
       "      <td>False</td>\n",
       "      <td>en</td>\n",
       "    </tr>\n",
       "  </tbody>\n",
       "</table>\n",
       "<p>7245 rows × 12 columns</p>\n",
       "</div>"
      ],
      "text/plain": [
       "                                                   film release_date  \\\n",
       "0                                      The Intouchables   2011-11-02   \n",
       "1                                       A Dog's Journey   2019-05-03   \n",
       "2                                            Death Note   2017-08-25   \n",
       "3                                        Need for Speed   2014-03-13   \n",
       "4                                         Open 24 Hours   2018-08-27   \n",
       "...                                                 ...          ...   \n",
       "7394  Puella Magi Madoka Magica the Movie Part III: ...   2013-10-26   \n",
       "7395                                            Hot Rod   2007-08-03   \n",
       "7396                                     Murder at 1600   1997-04-18   \n",
       "7397                                          Rocambola   2019-10-25   \n",
       "7398                                    The Onion Movie   2008-05-31   \n",
       "\n",
       "      release_year release_month    revenue    budget  popularity vote_count  \\\n",
       "0           2011.0          11.0  426588510  13000000      43.876      13226   \n",
       "1           2019.0           5.0    2520000         0      43.845        886   \n",
       "2           2017.0           8.0          0  40000000      43.749       3185   \n",
       "3           2014.0           3.0  203277636  66000000      43.748       3221   \n",
       "4           2018.0           8.0          0         0      43.663         51   \n",
       "...            ...           ...        ...       ...         ...        ...   \n",
       "7394        2013.0          10.0   12947880         0      10.986        113   \n",
       "7395        2007.0           8.0   14334401         0      10.986        678   \n",
       "7396        1997.0           4.0   25804707  40000000      10.985        337   \n",
       "7397        2019.0          10.0          0         0      10.984          5   \n",
       "7398        2008.0           5.0          0         0      10.984        145   \n",
       "\n",
       "     runtime                                             genres  adult  \\\n",
       "0        113  [{'id': 18, 'name': 'Drama'}, {'id': 35, 'name...  False   \n",
       "1        120  [{'id': 10751, 'name': 'Family'}, {'id': 12, '...  False   \n",
       "2        101  [{'id': 14, 'name': 'Fantasy'}, {'id': 27, 'na...  False   \n",
       "3        132  [{'id': 28, 'name': 'Action'}, {'id': 80, 'nam...  False   \n",
       "4        102  [{'id': 27, 'name': 'Horror'}, {'id': 53, 'nam...  False   \n",
       "...      ...                                                ...    ...   \n",
       "7394     116  [{'id': 9648, 'name': 'Mystery'}, {'id': 16, '...  False   \n",
       "7395      88  [{'id': 35, 'name': 'Comedy'}, {'id': 28, 'nam...  False   \n",
       "7396     107  [{'id': 28, 'name': 'Action'}, {'id': 18, 'nam...  False   \n",
       "7397      83                     [{'id': 27, 'name': 'Horror'}]  False   \n",
       "7398      80                     [{'id': 35, 'name': 'Comedy'}]  False   \n",
       "\n",
       "     original_language  \n",
       "0                   fr  \n",
       "1                   en  \n",
       "2                   en  \n",
       "3                   en  \n",
       "4                   en  \n",
       "...                ...  \n",
       "7394                ja  \n",
       "7395                en  \n",
       "7396                en  \n",
       "7397                es  \n",
       "7398                en  \n",
       "\n",
       "[7245 rows x 12 columns]"
      ]
     },
     "execution_count": 15,
     "metadata": {},
     "output_type": "execute_result"
    }
   ],
   "source": [
    "df"
   ]
  },
  {
   "cell_type": "code",
   "execution_count": 16,
   "metadata": {
    "id": "g-WzLQIN6Krs"
   },
   "outputs": [],
   "source": [
    "df = df[df.release_year >= 2010]"
   ]
  },
  {
   "cell_type": "markdown",
   "metadata": {
    "id": "amlgS_gdYkDa"
   },
   "source": [
    "### Revenue\n",
    ">There are data with zero revenues and we do want zero values as zero revenue does not give us any relevant information. Let's go ahead and remove them."
   ]
  },
  {
   "cell_type": "code",
   "execution_count": 17,
   "metadata": {
    "id": "19TVGjUjY5Qk"
   },
   "outputs": [
    {
     "name": "stdout",
     "output_type": "stream",
     "text": [
      "2                                        Death Note\n",
      "4                                     Open 24 Hours\n",
      "7                                       Rising High\n",
      "8                                      Tomb Invader\n",
      "10    Godzilla: King of the Monsters - Godzilla 2.0\n",
      "Name: film, dtype: object\n"
     ]
    }
   ],
   "source": [
    "# Print movies with 0 revenues\n",
    "print(df.film[df.revenue == 0].head())"
   ]
  },
  {
   "cell_type": "code",
   "execution_count": 18,
   "metadata": {
    "id": "7FDZuc4Jyn2r"
   },
   "outputs": [],
   "source": [
    "# Data cleaning: remove the rows with revenue == 0\n",
    "df = df[df.revenue != 0]"
   ]
  },
  {
   "cell_type": "markdown",
   "metadata": {
    "id": "WLMTkDTzWpU8"
   },
   "source": [
    ">Since revenue is numerical, let's go ahead and convert it to 'int64' data type."
   ]
  },
  {
   "cell_type": "code",
   "execution_count": 19,
   "metadata": {
    "id": "JlWbU2krWp6l"
   },
   "outputs": [],
   "source": [
    "# Converting to int64\n",
    "df['revenue'] = df['revenue'].astype('int64')"
   ]
  },
  {
   "cell_type": "markdown",
   "metadata": {
    "id": "tW2yXDP2IvRV"
   },
   "source": [
    "### Budget\n",
    ">There are data with zero budget and we do want zero values as zero budget does not give us any relevant information. Let's go ahead and remove them."
   ]
  },
  {
   "cell_type": "code",
   "execution_count": 20,
   "metadata": {
    "id": "HBUoK0qR3dVf"
   },
   "outputs": [
    {
     "name": "stdout",
     "output_type": "stream",
     "text": [
      "1            A Dog's Journey\n",
      "25                    Samson\n",
      "36            Mary Magdalene\n",
      "54    I Spit on Your Grave 2\n",
      "66            Sound of Metal\n",
      "Name: film, dtype: object\n"
     ]
    }
   ],
   "source": [
    "# Print movies with 0 budget\n",
    "print(df.film[df.budget == 0].head())"
   ]
  },
  {
   "cell_type": "code",
   "execution_count": 21,
   "metadata": {},
   "outputs": [],
   "source": [
    "# Data cleaning: remove rows with budget == 0\n",
    "df = df[df.budget != 0]"
   ]
  },
  {
   "cell_type": "markdown",
   "metadata": {
    "id": "IjXjx84KIJRS"
   },
   "source": [
    ">Since budget is numerical, let's go ahead and convert it to 'int64' data type."
   ]
  },
  {
   "cell_type": "code",
   "execution_count": 22,
   "metadata": {},
   "outputs": [],
   "source": [
    "# Converting budget to int64\n",
    "df['budget'] = df['budget'].astype('int64')"
   ]
  },
  {
   "cell_type": "markdown",
   "metadata": {
    "id": "PTQnZ2ybIfGA"
   },
   "source": [
    "### Vote Count\n",
    ">It seems like there's nothing out of the ordinary for this data set."
   ]
  },
  {
   "cell_type": "code",
   "execution_count": 23,
   "metadata": {
    "id": "WrNoa0kT5Noo"
   },
   "outputs": [
    {
     "name": "stdout",
     "output_type": "stream",
     "text": [
      "Number of cateogories in vote_count: 1100\n",
      "905     4\n",
      "482     3\n",
      "531     3\n",
      "669     3\n",
      "575     3\n",
      "       ..\n",
      "1085    1\n",
      "5044    1\n",
      "646     1\n",
      "648     1\n",
      "2045    1\n",
      "Name: vote_count, Length: 1100, dtype: int64\n"
     ]
    }
   ],
   "source": [
    "# Print the unique categories in vote_count\n",
    "# This gets a summary of the freqeuncies of each of the categories in vote_count\n",
    "print(\"Number of cateogories in vote_count:\", len(df[\"vote_count\"].unique()))\n",
    "print(df[\"vote_count\"].value_counts())"
   ]
  },
  {
   "cell_type": "markdown",
   "metadata": {
    "id": "9PgIqIJFYrPK"
   },
   "source": [
    ">Since vote count is numerical, let's go ahead and convert it to 'int64' data type."
   ]
  },
  {
   "cell_type": "code",
   "execution_count": 24,
   "metadata": {
    "id": "e4yGAqWuYpQR"
   },
   "outputs": [],
   "source": [
    "df['vote_count'] = df['vote_count'].astype('int64')"
   ]
  },
  {
   "cell_type": "markdown",
   "metadata": {
    "id": "bT5JeIPQaA2e"
   },
   "source": [
    "### Runtime\n",
    ">It seems like there are data with zero runtime. We do want zero values as zero runtime does not give us any relevant information. Let's go ahead and remove them."
   ]
  },
  {
   "cell_type": "code",
   "execution_count": 25,
   "metadata": {},
   "outputs": [
    {
     "name": "stdout",
     "output_type": "stream",
     "text": [
      "Series([], Name: film, dtype: object)\n"
     ]
    }
   ],
   "source": [
    "# Print movies with 0 runtime\n",
    "print(df.film[df.runtime == 0].head())"
   ]
  },
  {
   "cell_type": "code",
   "execution_count": 26,
   "metadata": {
    "id": "fHxsL7eOGZld"
   },
   "outputs": [],
   "source": [
    "# Data cleaning: remove the rows with runtime == 0\n",
    "df = df[df.runtime != 0]"
   ]
  },
  {
   "cell_type": "markdown",
   "metadata": {
    "id": "-Vh0yS4ra33M"
   },
   "source": [
    ">Since runtime is numerical, let's go ahead and convert it to 'int64' data type."
   ]
  },
  {
   "cell_type": "code",
   "execution_count": 27,
   "metadata": {
    "id": "eSYrQwr2a33f"
   },
   "outputs": [],
   "source": [
    "df[\"runtime\"] = df[\"runtime\"].astype('int64')"
   ]
  },
  {
   "cell_type": "markdown",
   "metadata": {
    "id": "juoajCudbDO1"
   },
   "source": [
    "### Adult\n",
    ">Since there is an overwhelming amount of 'False' values, this indicates that adult is a pretty variable to use."
   ]
  },
  {
   "cell_type": "code",
   "execution_count": 28,
   "metadata": {
    "id": "4JlmCDcm54rr"
   },
   "outputs": [
    {
     "name": "stdout",
     "output_type": "stream",
     "text": [
      "Number of cateogories in vote_count: 1\n",
      "False    1278\n",
      "Name: adult, dtype: int64\n"
     ]
    }
   ],
   "source": [
    "# Print the unique categories in \"adult\"\n",
    "# This gets a summary of the freqeuncies of each of the categories in adult\n",
    "print(\"Number of cateogories in vote_count:\", len(df[\"adult\"].unique()))\n",
    "print(df[\"adult\"].value_counts())"
   ]
  },
  {
   "cell_type": "markdown",
   "metadata": {
    "id": "e61uygdo6LE6"
   },
   "source": [
    ">Let's drop adult."
   ]
  },
  {
   "cell_type": "code",
   "execution_count": 29,
   "metadata": {
    "id": "EVni0ZEPbYC5"
   },
   "outputs": [],
   "source": [
    "df = df.drop(columns=[\"adult\"])"
   ]
  },
  {
   "cell_type": "markdown",
   "metadata": {
    "id": "L76q5LZrbYtX"
   },
   "source": [
    "### Original Language\n",
    ">There seems to be an overwhelming number of English movies. We want to use lanuage as one of our predictors, so let's change it to a boolean.<Br> \n",
    "\n",
    ">**Boolean:**\n",
    ">- English: 1  \n",
    ">- Not-English: 0\n"
   ]
  },
  {
   "cell_type": "code",
   "execution_count": 30,
   "metadata": {
    "id": "VOoSbA_DcCTg"
   },
   "outputs": [
    {
     "name": "stdout",
     "output_type": "stream",
     "text": [
      "Number of cateogories in vote_count: 20\n",
      "en    1169\n",
      "es      22\n",
      "fr      16\n",
      "ko      16\n",
      "zh      15\n",
      "ru      10\n",
      "ja       6\n",
      "it       5\n",
      "cn       3\n",
      "hi       2\n",
      "da       2\n",
      "no       2\n",
      "te       2\n",
      "id       2\n",
      "ar       1\n",
      "pt       1\n",
      "de       1\n",
      "pl       1\n",
      "nb       1\n",
      "ta       1\n",
      "Name: original_language, dtype: int64\n"
     ]
    }
   ],
   "source": [
    "# Print the unique categories in \"original_language\"\n",
    "# This gets a summary of the freqeuncies of each of the categories in original_language\n",
    "print(\"Number of cateogories in vote_count:\", len(df[\"original_language\"].unique()))\n",
    "print(df[\"original_language\"].value_counts())"
   ]
  },
  {
   "cell_type": "code",
   "execution_count": 31,
   "metadata": {
    "id": "alps_YRAJ4CF"
   },
   "outputs": [
    {
     "data": {
      "text/html": [
       "<div>\n",
       "<style scoped>\n",
       "    .dataframe tbody tr th:only-of-type {\n",
       "        vertical-align: middle;\n",
       "    }\n",
       "\n",
       "    .dataframe tbody tr th {\n",
       "        vertical-align: top;\n",
       "    }\n",
       "\n",
       "    .dataframe thead th {\n",
       "        text-align: right;\n",
       "    }\n",
       "</style>\n",
       "<table border=\"1\" class=\"dataframe\">\n",
       "  <thead>\n",
       "    <tr style=\"text-align: right;\">\n",
       "      <th></th>\n",
       "      <th>film</th>\n",
       "      <th>release_date</th>\n",
       "      <th>release_year</th>\n",
       "      <th>release_month</th>\n",
       "      <th>revenue</th>\n",
       "      <th>budget</th>\n",
       "      <th>popularity</th>\n",
       "      <th>vote_count</th>\n",
       "      <th>runtime</th>\n",
       "      <th>genres</th>\n",
       "      <th>original_language</th>\n",
       "    </tr>\n",
       "  </thead>\n",
       "  <tbody>\n",
       "    <tr>\n",
       "      <th>0</th>\n",
       "      <td>The Intouchables</td>\n",
       "      <td>2011-11-02</td>\n",
       "      <td>2011.0</td>\n",
       "      <td>11.0</td>\n",
       "      <td>426588510</td>\n",
       "      <td>13000000</td>\n",
       "      <td>43.876</td>\n",
       "      <td>13226</td>\n",
       "      <td>113</td>\n",
       "      <td>[{'id': 18, 'name': 'Drama'}, {'id': 35, 'name...</td>\n",
       "      <td>0</td>\n",
       "    </tr>\n",
       "    <tr>\n",
       "      <th>3</th>\n",
       "      <td>Need for Speed</td>\n",
       "      <td>2014-03-13</td>\n",
       "      <td>2014.0</td>\n",
       "      <td>3.0</td>\n",
       "      <td>203277636</td>\n",
       "      <td>66000000</td>\n",
       "      <td>43.748</td>\n",
       "      <td>3221</td>\n",
       "      <td>132</td>\n",
       "      <td>[{'id': 28, 'name': 'Action'}, {'id': 80, 'nam...</td>\n",
       "      <td>1</td>\n",
       "    </tr>\n",
       "    <tr>\n",
       "      <th>9</th>\n",
       "      <td>Midway</td>\n",
       "      <td>2019-11-06</td>\n",
       "      <td>2019.0</td>\n",
       "      <td>11.0</td>\n",
       "      <td>125641396</td>\n",
       "      <td>100000000</td>\n",
       "      <td>43.516</td>\n",
       "      <td>1510</td>\n",
       "      <td>138</td>\n",
       "      <td>[{'id': 10752, 'name': 'War'}, {'id': 36, 'nam...</td>\n",
       "      <td>1</td>\n",
       "    </tr>\n",
       "    <tr>\n",
       "      <th>12</th>\n",
       "      <td>Now You See Me 2</td>\n",
       "      <td>2016-06-02</td>\n",
       "      <td>2016.0</td>\n",
       "      <td>6.0</td>\n",
       "      <td>334901337</td>\n",
       "      <td>90000000</td>\n",
       "      <td>43.348</td>\n",
       "      <td>8678</td>\n",
       "      <td>129</td>\n",
       "      <td>[{'id': 53, 'name': 'Thriller'}, {'id': 28, 'n...</td>\n",
       "      <td>1</td>\n",
       "    </tr>\n",
       "    <tr>\n",
       "      <th>14</th>\n",
       "      <td>The Karate Kid</td>\n",
       "      <td>2010-06-10</td>\n",
       "      <td>2010.0</td>\n",
       "      <td>6.0</td>\n",
       "      <td>359126022</td>\n",
       "      <td>40000000</td>\n",
       "      <td>43.242</td>\n",
       "      <td>4365</td>\n",
       "      <td>140</td>\n",
       "      <td>[{'id': 28, 'name': 'Action'}, {'id': 12, 'nam...</td>\n",
       "      <td>1</td>\n",
       "    </tr>\n",
       "    <tr>\n",
       "      <th>...</th>\n",
       "      <td>...</td>\n",
       "      <td>...</td>\n",
       "      <td>...</td>\n",
       "      <td>...</td>\n",
       "      <td>...</td>\n",
       "      <td>...</td>\n",
       "      <td>...</td>\n",
       "      <td>...</td>\n",
       "      <td>...</td>\n",
       "      <td>...</td>\n",
       "      <td>...</td>\n",
       "    </tr>\n",
       "    <tr>\n",
       "      <th>7344</th>\n",
       "      <td>Ramona and Beezus</td>\n",
       "      <td>2010-07-23</td>\n",
       "      <td>2010.0</td>\n",
       "      <td>7.0</td>\n",
       "      <td>27293743</td>\n",
       "      <td>15000000</td>\n",
       "      <td>11.013</td>\n",
       "      <td>625</td>\n",
       "      <td>103</td>\n",
       "      <td>[{'id': 35, 'name': 'Comedy'}, {'id': 10751, '...</td>\n",
       "      <td>1</td>\n",
       "    </tr>\n",
       "    <tr>\n",
       "      <th>7349</th>\n",
       "      <td>Vanishing on 7th Street</td>\n",
       "      <td>2010-09-11</td>\n",
       "      <td>2010.0</td>\n",
       "      <td>9.0</td>\n",
       "      <td>1068682</td>\n",
       "      <td>10000000</td>\n",
       "      <td>11.011</td>\n",
       "      <td>392</td>\n",
       "      <td>92</td>\n",
       "      <td>[{'id': 9648, 'name': 'Mystery'}, {'id': 27, '...</td>\n",
       "      <td>1</td>\n",
       "    </tr>\n",
       "    <tr>\n",
       "      <th>7358</th>\n",
       "      <td>Straw Dogs</td>\n",
       "      <td>2011-09-16</td>\n",
       "      <td>2011.0</td>\n",
       "      <td>9.0</td>\n",
       "      <td>10324441</td>\n",
       "      <td>25000000</td>\n",
       "      <td>11.007</td>\n",
       "      <td>349</td>\n",
       "      <td>110</td>\n",
       "      <td>[{'id': 18, 'name': 'Drama'}, {'id': 53, 'name...</td>\n",
       "      <td>1</td>\n",
       "    </tr>\n",
       "    <tr>\n",
       "      <th>7359</th>\n",
       "      <td>Attraction</td>\n",
       "      <td>2017-01-26</td>\n",
       "      <td>2017.0</td>\n",
       "      <td>1.0</td>\n",
       "      <td>19454845</td>\n",
       "      <td>5027266</td>\n",
       "      <td>11.006</td>\n",
       "      <td>519</td>\n",
       "      <td>117</td>\n",
       "      <td>[{'id': 18, 'name': 'Drama'}, {'id': 10749, 'n...</td>\n",
       "      <td>0</td>\n",
       "    </tr>\n",
       "    <tr>\n",
       "      <th>7391</th>\n",
       "      <td>Book Club</td>\n",
       "      <td>2018-05-18</td>\n",
       "      <td>2018.0</td>\n",
       "      <td>5.0</td>\n",
       "      <td>78720293</td>\n",
       "      <td>10000000</td>\n",
       "      <td>10.988</td>\n",
       "      <td>537</td>\n",
       "      <td>104</td>\n",
       "      <td>[{'id': 35, 'name': 'Comedy'}, {'id': 10749, '...</td>\n",
       "      <td>1</td>\n",
       "    </tr>\n",
       "  </tbody>\n",
       "</table>\n",
       "<p>1278 rows × 11 columns</p>\n",
       "</div>"
      ],
      "text/plain": [
       "                         film release_date  release_year release_month  \\\n",
       "0            The Intouchables   2011-11-02        2011.0          11.0   \n",
       "3              Need for Speed   2014-03-13        2014.0           3.0   \n",
       "9                      Midway   2019-11-06        2019.0          11.0   \n",
       "12           Now You See Me 2   2016-06-02        2016.0           6.0   \n",
       "14             The Karate Kid   2010-06-10        2010.0           6.0   \n",
       "...                       ...          ...           ...           ...   \n",
       "7344        Ramona and Beezus   2010-07-23        2010.0           7.0   \n",
       "7349  Vanishing on 7th Street   2010-09-11        2010.0           9.0   \n",
       "7358               Straw Dogs   2011-09-16        2011.0           9.0   \n",
       "7359               Attraction   2017-01-26        2017.0           1.0   \n",
       "7391                Book Club   2018-05-18        2018.0           5.0   \n",
       "\n",
       "        revenue     budget  popularity  vote_count  runtime  \\\n",
       "0     426588510   13000000      43.876       13226      113   \n",
       "3     203277636   66000000      43.748        3221      132   \n",
       "9     125641396  100000000      43.516        1510      138   \n",
       "12    334901337   90000000      43.348        8678      129   \n",
       "14    359126022   40000000      43.242        4365      140   \n",
       "...         ...        ...         ...         ...      ...   \n",
       "7344   27293743   15000000      11.013         625      103   \n",
       "7349    1068682   10000000      11.011         392       92   \n",
       "7358   10324441   25000000      11.007         349      110   \n",
       "7359   19454845    5027266      11.006         519      117   \n",
       "7391   78720293   10000000      10.988         537      104   \n",
       "\n",
       "                                                 genres  original_language  \n",
       "0     [{'id': 18, 'name': 'Drama'}, {'id': 35, 'name...                  0  \n",
       "3     [{'id': 28, 'name': 'Action'}, {'id': 80, 'nam...                  1  \n",
       "9     [{'id': 10752, 'name': 'War'}, {'id': 36, 'nam...                  1  \n",
       "12    [{'id': 53, 'name': 'Thriller'}, {'id': 28, 'n...                  1  \n",
       "14    [{'id': 28, 'name': 'Action'}, {'id': 12, 'nam...                  1  \n",
       "...                                                 ...                ...  \n",
       "7344  [{'id': 35, 'name': 'Comedy'}, {'id': 10751, '...                  1  \n",
       "7349  [{'id': 9648, 'name': 'Mystery'}, {'id': 27, '...                  1  \n",
       "7358  [{'id': 18, 'name': 'Drama'}, {'id': 53, 'name...                  1  \n",
       "7359  [{'id': 18, 'name': 'Drama'}, {'id': 10749, 'n...                  0  \n",
       "7391  [{'id': 35, 'name': 'Comedy'}, {'id': 10749, '...                  1  \n",
       "\n",
       "[1278 rows x 11 columns]"
      ]
     },
     "execution_count": 31,
     "metadata": {},
     "output_type": "execute_result"
    }
   ],
   "source": [
    "df[\"original_language\"] = np.where(df[\"original_language\"].str.contains(\"en\"), 1, 0)\n",
    "df"
   ]
  },
  {
   "cell_type": "code",
   "execution_count": 32,
   "metadata": {
    "id": "sEdH5JeGPn6L"
   },
   "outputs": [],
   "source": [
    "df[\"original_language\"] = df[\"original_language\"].astype('category')"
   ]
  },
  {
   "cell_type": "code",
   "execution_count": 33,
   "metadata": {
    "id": "d7QexNWNx0FF"
   },
   "outputs": [
    {
     "data": {
      "text/html": [
       "<div>\n",
       "<style scoped>\n",
       "    .dataframe tbody tr th:only-of-type {\n",
       "        vertical-align: middle;\n",
       "    }\n",
       "\n",
       "    .dataframe tbody tr th {\n",
       "        vertical-align: top;\n",
       "    }\n",
       "\n",
       "    .dataframe thead th {\n",
       "        text-align: right;\n",
       "    }\n",
       "</style>\n",
       "<table border=\"1\" class=\"dataframe\">\n",
       "  <thead>\n",
       "    <tr style=\"text-align: right;\">\n",
       "      <th></th>\n",
       "      <th>film</th>\n",
       "      <th>release_date</th>\n",
       "      <th>release_year</th>\n",
       "      <th>release_month</th>\n",
       "      <th>revenue</th>\n",
       "      <th>budget</th>\n",
       "      <th>popularity</th>\n",
       "      <th>vote_count</th>\n",
       "      <th>runtime</th>\n",
       "      <th>genres</th>\n",
       "      <th>original_language</th>\n",
       "    </tr>\n",
       "  </thead>\n",
       "  <tbody>\n",
       "    <tr>\n",
       "      <th>0</th>\n",
       "      <td>The Intouchables</td>\n",
       "      <td>2011-11-02</td>\n",
       "      <td>2011.0</td>\n",
       "      <td>11.0</td>\n",
       "      <td>426588510</td>\n",
       "      <td>13000000</td>\n",
       "      <td>43.876</td>\n",
       "      <td>13226</td>\n",
       "      <td>113</td>\n",
       "      <td>[{'id': 18, 'name': 'Drama'}, {'id': 35, 'name...</td>\n",
       "      <td>0</td>\n",
       "    </tr>\n",
       "    <tr>\n",
       "      <th>1</th>\n",
       "      <td>Need for Speed</td>\n",
       "      <td>2014-03-13</td>\n",
       "      <td>2014.0</td>\n",
       "      <td>3.0</td>\n",
       "      <td>203277636</td>\n",
       "      <td>66000000</td>\n",
       "      <td>43.748</td>\n",
       "      <td>3221</td>\n",
       "      <td>132</td>\n",
       "      <td>[{'id': 28, 'name': 'Action'}, {'id': 80, 'nam...</td>\n",
       "      <td>1</td>\n",
       "    </tr>\n",
       "    <tr>\n",
       "      <th>2</th>\n",
       "      <td>Midway</td>\n",
       "      <td>2019-11-06</td>\n",
       "      <td>2019.0</td>\n",
       "      <td>11.0</td>\n",
       "      <td>125641396</td>\n",
       "      <td>100000000</td>\n",
       "      <td>43.516</td>\n",
       "      <td>1510</td>\n",
       "      <td>138</td>\n",
       "      <td>[{'id': 10752, 'name': 'War'}, {'id': 36, 'nam...</td>\n",
       "      <td>1</td>\n",
       "    </tr>\n",
       "    <tr>\n",
       "      <th>3</th>\n",
       "      <td>Now You See Me 2</td>\n",
       "      <td>2016-06-02</td>\n",
       "      <td>2016.0</td>\n",
       "      <td>6.0</td>\n",
       "      <td>334901337</td>\n",
       "      <td>90000000</td>\n",
       "      <td>43.348</td>\n",
       "      <td>8678</td>\n",
       "      <td>129</td>\n",
       "      <td>[{'id': 53, 'name': 'Thriller'}, {'id': 28, 'n...</td>\n",
       "      <td>1</td>\n",
       "    </tr>\n",
       "    <tr>\n",
       "      <th>4</th>\n",
       "      <td>The Karate Kid</td>\n",
       "      <td>2010-06-10</td>\n",
       "      <td>2010.0</td>\n",
       "      <td>6.0</td>\n",
       "      <td>359126022</td>\n",
       "      <td>40000000</td>\n",
       "      <td>43.242</td>\n",
       "      <td>4365</td>\n",
       "      <td>140</td>\n",
       "      <td>[{'id': 28, 'name': 'Action'}, {'id': 12, 'nam...</td>\n",
       "      <td>1</td>\n",
       "    </tr>\n",
       "    <tr>\n",
       "      <th>...</th>\n",
       "      <td>...</td>\n",
       "      <td>...</td>\n",
       "      <td>...</td>\n",
       "      <td>...</td>\n",
       "      <td>...</td>\n",
       "      <td>...</td>\n",
       "      <td>...</td>\n",
       "      <td>...</td>\n",
       "      <td>...</td>\n",
       "      <td>...</td>\n",
       "      <td>...</td>\n",
       "    </tr>\n",
       "    <tr>\n",
       "      <th>1273</th>\n",
       "      <td>Ramona and Beezus</td>\n",
       "      <td>2010-07-23</td>\n",
       "      <td>2010.0</td>\n",
       "      <td>7.0</td>\n",
       "      <td>27293743</td>\n",
       "      <td>15000000</td>\n",
       "      <td>11.013</td>\n",
       "      <td>625</td>\n",
       "      <td>103</td>\n",
       "      <td>[{'id': 35, 'name': 'Comedy'}, {'id': 10751, '...</td>\n",
       "      <td>1</td>\n",
       "    </tr>\n",
       "    <tr>\n",
       "      <th>1274</th>\n",
       "      <td>Vanishing on 7th Street</td>\n",
       "      <td>2010-09-11</td>\n",
       "      <td>2010.0</td>\n",
       "      <td>9.0</td>\n",
       "      <td>1068682</td>\n",
       "      <td>10000000</td>\n",
       "      <td>11.011</td>\n",
       "      <td>392</td>\n",
       "      <td>92</td>\n",
       "      <td>[{'id': 9648, 'name': 'Mystery'}, {'id': 27, '...</td>\n",
       "      <td>1</td>\n",
       "    </tr>\n",
       "    <tr>\n",
       "      <th>1275</th>\n",
       "      <td>Straw Dogs</td>\n",
       "      <td>2011-09-16</td>\n",
       "      <td>2011.0</td>\n",
       "      <td>9.0</td>\n",
       "      <td>10324441</td>\n",
       "      <td>25000000</td>\n",
       "      <td>11.007</td>\n",
       "      <td>349</td>\n",
       "      <td>110</td>\n",
       "      <td>[{'id': 18, 'name': 'Drama'}, {'id': 53, 'name...</td>\n",
       "      <td>1</td>\n",
       "    </tr>\n",
       "    <tr>\n",
       "      <th>1276</th>\n",
       "      <td>Attraction</td>\n",
       "      <td>2017-01-26</td>\n",
       "      <td>2017.0</td>\n",
       "      <td>1.0</td>\n",
       "      <td>19454845</td>\n",
       "      <td>5027266</td>\n",
       "      <td>11.006</td>\n",
       "      <td>519</td>\n",
       "      <td>117</td>\n",
       "      <td>[{'id': 18, 'name': 'Drama'}, {'id': 10749, 'n...</td>\n",
       "      <td>0</td>\n",
       "    </tr>\n",
       "    <tr>\n",
       "      <th>1277</th>\n",
       "      <td>Book Club</td>\n",
       "      <td>2018-05-18</td>\n",
       "      <td>2018.0</td>\n",
       "      <td>5.0</td>\n",
       "      <td>78720293</td>\n",
       "      <td>10000000</td>\n",
       "      <td>10.988</td>\n",
       "      <td>537</td>\n",
       "      <td>104</td>\n",
       "      <td>[{'id': 35, 'name': 'Comedy'}, {'id': 10749, '...</td>\n",
       "      <td>1</td>\n",
       "    </tr>\n",
       "  </tbody>\n",
       "</table>\n",
       "<p>1278 rows × 11 columns</p>\n",
       "</div>"
      ],
      "text/plain": [
       "                         film release_date  release_year release_month  \\\n",
       "0            The Intouchables   2011-11-02        2011.0          11.0   \n",
       "1              Need for Speed   2014-03-13        2014.0           3.0   \n",
       "2                      Midway   2019-11-06        2019.0          11.0   \n",
       "3            Now You See Me 2   2016-06-02        2016.0           6.0   \n",
       "4              The Karate Kid   2010-06-10        2010.0           6.0   \n",
       "...                       ...          ...           ...           ...   \n",
       "1273        Ramona and Beezus   2010-07-23        2010.0           7.0   \n",
       "1274  Vanishing on 7th Street   2010-09-11        2010.0           9.0   \n",
       "1275               Straw Dogs   2011-09-16        2011.0           9.0   \n",
       "1276               Attraction   2017-01-26        2017.0           1.0   \n",
       "1277                Book Club   2018-05-18        2018.0           5.0   \n",
       "\n",
       "        revenue     budget  popularity  vote_count  runtime  \\\n",
       "0     426588510   13000000      43.876       13226      113   \n",
       "1     203277636   66000000      43.748        3221      132   \n",
       "2     125641396  100000000      43.516        1510      138   \n",
       "3     334901337   90000000      43.348        8678      129   \n",
       "4     359126022   40000000      43.242        4365      140   \n",
       "...         ...        ...         ...         ...      ...   \n",
       "1273   27293743   15000000      11.013         625      103   \n",
       "1274    1068682   10000000      11.011         392       92   \n",
       "1275   10324441   25000000      11.007         349      110   \n",
       "1276   19454845    5027266      11.006         519      117   \n",
       "1277   78720293   10000000      10.988         537      104   \n",
       "\n",
       "                                                 genres original_language  \n",
       "0     [{'id': 18, 'name': 'Drama'}, {'id': 35, 'name...                 0  \n",
       "1     [{'id': 28, 'name': 'Action'}, {'id': 80, 'nam...                 1  \n",
       "2     [{'id': 10752, 'name': 'War'}, {'id': 36, 'nam...                 1  \n",
       "3     [{'id': 53, 'name': 'Thriller'}, {'id': 28, 'n...                 1  \n",
       "4     [{'id': 28, 'name': 'Action'}, {'id': 12, 'nam...                 1  \n",
       "...                                                 ...               ...  \n",
       "1273  [{'id': 35, 'name': 'Comedy'}, {'id': 10751, '...                 1  \n",
       "1274  [{'id': 9648, 'name': 'Mystery'}, {'id': 27, '...                 1  \n",
       "1275  [{'id': 18, 'name': 'Drama'}, {'id': 53, 'name...                 1  \n",
       "1276  [{'id': 18, 'name': 'Drama'}, {'id': 10749, 'n...                 0  \n",
       "1277  [{'id': 35, 'name': 'Comedy'}, {'id': 10749, '...                 1  \n",
       "\n",
       "[1278 rows x 11 columns]"
      ]
     },
     "execution_count": 33,
     "metadata": {},
     "output_type": "execute_result"
    }
   ],
   "source": [
    "# Reset the index\n",
    "df.reset_index(drop=True, inplace=True)\n",
    "df"
   ]
  },
  {
   "cell_type": "markdown",
   "metadata": {
    "id": "OoqaCZBge0ZC"
   },
   "source": [
    "### Genre\n",
    ">Let's extract the list of genres first from the dictionaries."
   ]
  },
  {
   "cell_type": "code",
   "execution_count": 34,
   "metadata": {
    "id": "S3R8vaRZe0FV"
   },
   "outputs": [
    {
     "data": {
      "text/html": [
       "<div>\n",
       "<style scoped>\n",
       "    .dataframe tbody tr th:only-of-type {\n",
       "        vertical-align: middle;\n",
       "    }\n",
       "\n",
       "    .dataframe tbody tr th {\n",
       "        vertical-align: top;\n",
       "    }\n",
       "\n",
       "    .dataframe thead th {\n",
       "        text-align: right;\n",
       "    }\n",
       "</style>\n",
       "<table border=\"1\" class=\"dataframe\">\n",
       "  <thead>\n",
       "    <tr style=\"text-align: right;\">\n",
       "      <th></th>\n",
       "      <th>genres</th>\n",
       "    </tr>\n",
       "  </thead>\n",
       "  <tbody>\n",
       "    <tr>\n",
       "      <th>0</th>\n",
       "      <td>[{'id': 18, 'name': 'Drama'}, {'id': 35, 'name...</td>\n",
       "    </tr>\n",
       "    <tr>\n",
       "      <th>1</th>\n",
       "      <td>[{'id': 28, 'name': 'Action'}, {'id': 80, 'nam...</td>\n",
       "    </tr>\n",
       "    <tr>\n",
       "      <th>2</th>\n",
       "      <td>[{'id': 10752, 'name': 'War'}, {'id': 36, 'nam...</td>\n",
       "    </tr>\n",
       "    <tr>\n",
       "      <th>3</th>\n",
       "      <td>[{'id': 53, 'name': 'Thriller'}, {'id': 28, 'n...</td>\n",
       "    </tr>\n",
       "    <tr>\n",
       "      <th>4</th>\n",
       "      <td>[{'id': 28, 'name': 'Action'}, {'id': 12, 'nam...</td>\n",
       "    </tr>\n",
       "  </tbody>\n",
       "</table>\n",
       "</div>"
      ],
      "text/plain": [
       "                                              genres\n",
       "0  [{'id': 18, 'name': 'Drama'}, {'id': 35, 'name...\n",
       "1  [{'id': 28, 'name': 'Action'}, {'id': 80, 'nam...\n",
       "2  [{'id': 10752, 'name': 'War'}, {'id': 36, 'nam...\n",
       "3  [{'id': 53, 'name': 'Thriller'}, {'id': 28, 'n...\n",
       "4  [{'id': 28, 'name': 'Action'}, {'id': 12, 'nam..."
      ]
     },
     "execution_count": 34,
     "metadata": {},
     "output_type": "execute_result"
    }
   ],
   "source": [
    "dfplay = df.copy()\n",
    "\n",
    "dfep = pd.DataFrame(dfplay['genres'])\n",
    "dfep.head()"
   ]
  },
  {
   "cell_type": "markdown",
   "metadata": {},
   "source": [
    ">Putting genres into lists."
   ]
  },
  {
   "cell_type": "code",
   "execution_count": 35,
   "metadata": {
    "id": "vHv3tF4dsfrW"
   },
   "outputs": [
    {
     "data": {
      "text/html": [
       "<div>\n",
       "<style scoped>\n",
       "    .dataframe tbody tr th:only-of-type {\n",
       "        vertical-align: middle;\n",
       "    }\n",
       "\n",
       "    .dataframe tbody tr th {\n",
       "        vertical-align: top;\n",
       "    }\n",
       "\n",
       "    .dataframe thead th {\n",
       "        text-align: right;\n",
       "    }\n",
       "</style>\n",
       "<table border=\"1\" class=\"dataframe\">\n",
       "  <thead>\n",
       "    <tr style=\"text-align: right;\">\n",
       "      <th></th>\n",
       "      <th>genre_list</th>\n",
       "    </tr>\n",
       "  </thead>\n",
       "  <tbody>\n",
       "    <tr>\n",
       "      <th>0</th>\n",
       "      <td>[Comedy, Drama]</td>\n",
       "    </tr>\n",
       "    <tr>\n",
       "      <th>1</th>\n",
       "      <td>[Action, Crime, Drama, Thriller]</td>\n",
       "    </tr>\n",
       "    <tr>\n",
       "      <th>2</th>\n",
       "      <td>[Action, Drama, History, War]</td>\n",
       "    </tr>\n",
       "    <tr>\n",
       "      <th>3</th>\n",
       "      <td>[Action, Comedy, Thriller]</td>\n",
       "    </tr>\n",
       "    <tr>\n",
       "      <th>4</th>\n",
       "      <td>[Action, Adventure, Drama, Family]</td>\n",
       "    </tr>\n",
       "  </tbody>\n",
       "</table>\n",
       "</div>"
      ],
      "text/plain": [
       "                           genre_list\n",
       "0                     [Comedy, Drama]\n",
       "1    [Action, Crime, Drama, Thriller]\n",
       "2       [Action, Drama, History, War]\n",
       "3          [Action, Comedy, Thriller]\n",
       "4  [Action, Adventure, Drama, Family]"
      ]
     },
     "execution_count": 35,
     "metadata": {},
     "output_type": "execute_result"
    }
   ],
   "source": [
    "# Extract list of genres from the dictionaries\n",
    "\n",
    "dfObj = pd.DataFrame(columns=['genre_list'])\n",
    "\n",
    "for column in dfep[['genres']]:\n",
    "  columnSeriesObj = dfep[column]\n",
    "  columnSeriesObj = list(columnSeriesObj)\n",
    "\n",
    "  for i in range(len(columnSeriesObj)):\n",
    "    a = []\n",
    "    j = len(columnSeriesObj[i])\n",
    "    for k in range(j):\n",
    "      a.append(columnSeriesObj[i][k]['name'])\n",
    "    a = sorted(a)     \n",
    "    dfObj = dfObj.append({'genre_list': a}, ignore_index=True)\n",
    "\n",
    "dfObj.head()"
   ]
  },
  {
   "cell_type": "markdown",
   "metadata": {
    "id": "FaifPxBuyLzS"
   },
   "source": [
    "### One-Hot Encoding\n",
    ">We want to use 'genres' as one of our predictors for revenue. However, as one movie can have multiple genres, therefore, we have decided to use one-hot encoding for our genre representation. "
   ]
  },
  {
   "cell_type": "code",
   "execution_count": 36,
   "metadata": {},
   "outputs": [
    {
     "data": {
      "text/plain": [
       "<function list.sort(*, key=None, reverse=False)>"
      ]
     },
     "execution_count": 36,
     "metadata": {},
     "output_type": "execute_result"
    }
   ],
   "source": [
    "genre_list = ['Action', 'Adventure', 'Animation', 'Comedy', 'Crime', 'Documentary', 'Drama', 'Family', 'Fantasy', 'History', 'Horror', 'Music', 'Mystery', 'Romance', 'Science Fiction',\\\n",
    "'Thriller', 'TV Movie', 'War', 'Western']\n",
    "genre_list.sort"
   ]
  },
  {
   "cell_type": "code",
   "execution_count": 37,
   "metadata": {
    "id": "XsxBHb_a0lbp"
   },
   "outputs": [
    {
     "data": {
      "text/plain": [
       "0    0001001000000000000\n",
       "1    1000101000000001000\n",
       "2    1000001001000000010\n",
       "3    1001000000000001000\n",
       "4    1100001100000000000\n",
       "Name: genre_list_one_hot, dtype: object"
      ]
     },
     "execution_count": 37,
     "metadata": {},
     "output_type": "execute_result"
    }
   ],
   "source": [
    "# creates dataframe for encoded values\n",
    "dfObj_enc = pd.DataFrame(columns=['genre_list_one_hot'])\n",
    "\n",
    "# performs one-hot encoding\n",
    "for cat in range(len(columnSeriesObj)):\n",
    "  total = ''\n",
    "  cat_index = 0\n",
    "  str_len = 1\n",
    "  length = len(dfObj.genre_list.iloc[cat])\n",
    "  if length == 0:\n",
    "    total = '0000000000000000000'\n",
    "    dfObj_enc = dfObj_enc.append({'genre_list_one_hot': total}, ignore_index=True)\n",
    "    continue\n",
    "  for index in range(len(genre_list)):\n",
    "    if dfObj.genre_list.iloc[cat][cat_index] == genre_list[index]:\n",
    "      total += '1'\n",
    "      cat_index += 1\n",
    "    else:\n",
    "      total += '0'\n",
    "    if cat_index == length:\n",
    "      break\n",
    "    str_len += 1\n",
    "  for remain in range(len(genre_list) - str_len):\n",
    "    total += '0' \n",
    "  dfObj_enc = dfObj_enc.append({'genre_list_one_hot': total}, ignore_index=True)\n",
    "\n",
    "# concatenates dataframes\n",
    "dfObj = pd.concat([dfObj, dfObj_enc], axis=1)\n",
    "df = pd.concat([df,dfObj], axis = 1)\n",
    "\n",
    "df.genre_list_one_hot.head()\n"
   ]
  },
  {
   "cell_type": "markdown",
   "metadata": {},
   "source": [
    ">After encoding the genres, we should change it to categorical data."
   ]
  },
  {
   "cell_type": "code",
   "execution_count": 38,
   "metadata": {
    "id": "oUq1UYTGpxng"
   },
   "outputs": [],
   "source": [
    "# changing one-hot encoded values to categorical data\n",
    "df['genre_list_one_hot'] = df['genre_list_one_hot'].astype('category')"
   ]
  },
  {
   "cell_type": "markdown",
   "metadata": {},
   "source": [
    "## 2. Exploratory Data Analysis & Analytic Visualisation"
   ]
  },
  {
   "cell_type": "markdown",
   "metadata": {
    "id": "eFm3wphs7o3g"
   },
   "source": [
    "### Univariate Statistical Analysis\n",
    "> Lets do some univariate basic visual visualisations to see how are the variables are.\n",
    "#### Numerical Variables"
   ]
  },
  {
   "cell_type": "code",
   "execution_count": 39,
   "metadata": {
    "id": "QIOl6cRJCIGb"
   },
   "outputs": [],
   "source": [
    "# Extracting all numerical variables\n",
    "numDF = pd.DataFrame(df[[\"budget\", \"popularity\", \"vote_count\", \"revenue\", \"runtime\"]])"
   ]
  },
  {
   "cell_type": "code",
   "execution_count": 40,
   "metadata": {
    "id": "76cREkV7FKnW"
   },
   "outputs": [
    {
     "data": {
      "text/html": [
       "<div>\n",
       "<style scoped>\n",
       "    .dataframe tbody tr th:only-of-type {\n",
       "        vertical-align: middle;\n",
       "    }\n",
       "\n",
       "    .dataframe tbody tr th {\n",
       "        vertical-align: top;\n",
       "    }\n",
       "\n",
       "    .dataframe thead th {\n",
       "        text-align: right;\n",
       "    }\n",
       "</style>\n",
       "<table border=\"1\" class=\"dataframe\">\n",
       "  <thead>\n",
       "    <tr style=\"text-align: right;\">\n",
       "      <th></th>\n",
       "      <th>budget</th>\n",
       "      <th>popularity</th>\n",
       "      <th>vote_count</th>\n",
       "      <th>revenue</th>\n",
       "      <th>runtime</th>\n",
       "    </tr>\n",
       "  </thead>\n",
       "  <tbody>\n",
       "    <tr>\n",
       "      <th>count</th>\n",
       "      <td>1.278000e+03</td>\n",
       "      <td>1278.000000</td>\n",
       "      <td>1278.000000</td>\n",
       "      <td>1.278000e+03</td>\n",
       "      <td>1278.000000</td>\n",
       "    </tr>\n",
       "    <tr>\n",
       "      <th>mean</th>\n",
       "      <td>3.705657e+07</td>\n",
       "      <td>20.789344</td>\n",
       "      <td>2322.780125</td>\n",
       "      <td>1.008825e+08</td>\n",
       "      <td>108.325509</td>\n",
       "    </tr>\n",
       "    <tr>\n",
       "      <th>std</th>\n",
       "      <td>4.023483e+07</td>\n",
       "      <td>8.440746</td>\n",
       "      <td>2580.229377</td>\n",
       "      <td>1.449550e+08</td>\n",
       "      <td>16.759821</td>\n",
       "    </tr>\n",
       "    <tr>\n",
       "      <th>min</th>\n",
       "      <td>5.000000e+00</td>\n",
       "      <td>10.988000</td>\n",
       "      <td>0.000000</td>\n",
       "      <td>1.000000e+00</td>\n",
       "      <td>49.000000</td>\n",
       "    </tr>\n",
       "    <tr>\n",
       "      <th>25%</th>\n",
       "      <td>1.000000e+07</td>\n",
       "      <td>13.766000</td>\n",
       "      <td>668.000000</td>\n",
       "      <td>1.356951e+07</td>\n",
       "      <td>96.000000</td>\n",
       "    </tr>\n",
       "    <tr>\n",
       "      <th>50%</th>\n",
       "      <td>2.500000e+07</td>\n",
       "      <td>18.433500</td>\n",
       "      <td>1479.000000</td>\n",
       "      <td>5.052408e+07</td>\n",
       "      <td>106.000000</td>\n",
       "    </tr>\n",
       "    <tr>\n",
       "      <th>75%</th>\n",
       "      <td>4.500000e+07</td>\n",
       "      <td>25.937000</td>\n",
       "      <td>3059.250000</td>\n",
       "      <td>1.304208e+08</td>\n",
       "      <td>118.000000</td>\n",
       "    </tr>\n",
       "    <tr>\n",
       "      <th>max</th>\n",
       "      <td>2.550000e+08</td>\n",
       "      <td>43.876000</td>\n",
       "      <td>22262.000000</td>\n",
       "      <td>1.263521e+09</td>\n",
       "      <td>209.000000</td>\n",
       "    </tr>\n",
       "  </tbody>\n",
       "</table>\n",
       "</div>"
      ],
      "text/plain": [
       "             budget   popularity    vote_count       revenue      runtime\n",
       "count  1.278000e+03  1278.000000   1278.000000  1.278000e+03  1278.000000\n",
       "mean   3.705657e+07    20.789344   2322.780125  1.008825e+08   108.325509\n",
       "std    4.023483e+07     8.440746   2580.229377  1.449550e+08    16.759821\n",
       "min    5.000000e+00    10.988000      0.000000  1.000000e+00    49.000000\n",
       "25%    1.000000e+07    13.766000    668.000000  1.356951e+07    96.000000\n",
       "50%    2.500000e+07    18.433500   1479.000000  5.052408e+07   106.000000\n",
       "75%    4.500000e+07    25.937000   3059.250000  1.304208e+08   118.000000\n",
       "max    2.550000e+08    43.876000  22262.000000  1.263521e+09   209.000000"
      ]
     },
     "execution_count": 40,
     "metadata": {},
     "output_type": "execute_result"
    }
   ],
   "source": [
    "# Summary Statistics for all Variables in the dataframe we just created(numDF)\n",
    "numDF.describe()"
   ]
  },
  {
   "cell_type": "markdown",
   "metadata": {},
   "source": [
    ">Here, we have a box-plot, histogram and violin plot for all the numerical variables."
   ]
  },
  {
   "cell_type": "code",
   "execution_count": 41,
   "metadata": {
    "id": "hiL4rEYtBVLC"
   },
   "outputs": [
    {
     "data": {
      "text/plain": [
       "<AxesSubplot:>"
      ]
     },
     "execution_count": 41,
     "metadata": {},
     "output_type": "execute_result"
    },
    {
     "data": {
      "image/png": "[encoded data removed]",
      "text/plain": [
       "<Figure size 1368x360 with 3 Axes>"
      ]
     },
     "metadata": {
      "needs_background": "light"
     },
     "output_type": "display_data"
    }
   ],
   "source": [
    "# Budget\n",
    "f, axes = plt.subplots(1, 3, figsize=(19, 5))\n",
    "\n",
    "sb.boxplot(data = numDF['budget'], orient = \"h\", ax = axes[0])\n",
    "sb.histplot(data = numDF['budget'], ax = axes[1])\n",
    "sb.violinplot(data = numDF['budget'], orient = \"h\", ax = axes[2])"
   ]
  },
  {
   "cell_type": "markdown",
   "metadata": {},
   "source": [
    "**Analysis Univariate Plot of Budget:**\n",
    "- There seems to be large number of outliers according to the box-plot.\n",
    "- The plots suggests that the distribution is heavily skewed.\n",
    "- The plots indicates that 50% of the data lies approximately between 0.1x10^8 to 0.5x10^8."
   ]
  },
  {
   "cell_type": "code",
   "execution_count": 42,
   "metadata": {},
   "outputs": [
    {
     "data": {
      "text/plain": [
       "<AxesSubplot:>"
      ]
     },
     "execution_count": 42,
     "metadata": {},
     "output_type": "execute_result"
    },
    {
     "data": {
      "image/png": "[encoded data removed]",
      "text/plain": [
       "<Figure size 1368x360 with 3 Axes>"
      ]
     },
     "metadata": {
      "needs_background": "light"
     },
     "output_type": "display_data"
    }
   ],
   "source": [
    "# Popularity\n",
    "f, axes = plt.subplots(1, 3, figsize=(19, 5))\n",
    "\n",
    "sb.boxplot(data = numDF[\"popularity\"], orient = \"h\", ax = axes[0])\n",
    "sb.histplot(data = numDF[\"popularity\"], ax = axes[1])\n",
    "sb.violinplot(data = numDF[\"popularity\"], orient = \"h\", ax = axes[2])"
   ]
  },
  {
   "cell_type": "markdown",
   "metadata": {},
   "source": [
    "**Analysis Univariate Plot of Popularity:**\n",
    "- There seems to be a small number of outliers according to the box-plot.\n",
    "- The plots suggests that the distribution is slightly skewed.\n",
    "- The plots indicates that 50% of the data lies approximately between 15 to 28."
   ]
  },
  {
   "cell_type": "code",
   "execution_count": 43,
   "metadata": {},
   "outputs": [
    {
     "data": {
      "text/plain": [
       "<AxesSubplot:>"
      ]
     },
     "execution_count": 43,
     "metadata": {},
     "output_type": "execute_result"
    },
    {
     "data": {
      "image/png": "[encoded data removed]",
      "text/plain": [
       "<Figure size 1368x360 with 3 Axes>"
      ]
     },
     "metadata": {
      "needs_background": "light"
     },
     "output_type": "display_data"
    }
   ],
   "source": [
    "# Vote Count\n",
    "f, axes = plt.subplots(1, 3, figsize=(19, 5))\n",
    "\n",
    "sb.boxplot(data = numDF[\"vote_count\"], orient = \"h\", ax = axes[0])\n",
    "sb.histplot(data = numDF[\"vote_count\"], ax = axes[1])\n",
    "sb.violinplot(data = numDF[\"vote_count\"], orient = \"h\", ax = axes[2])"
   ]
  },
  {
   "cell_type": "markdown",
   "metadata": {},
   "source": [
    "**Analysis Univariate Plot of Vote Count:**\n",
    "- There seems to be a significant number of outliers according to the box-plot.\n",
    "- The plots suggests that the distribution is heavily skewed.\n",
    "- The plots indicates that 50% of the data lies approximately ranges from 0 to 3500."
   ]
  },
  {
   "cell_type": "code",
   "execution_count": 44,
   "metadata": {},
   "outputs": [
    {
     "data": {
      "text/plain": [
       "<AxesSubplot:>"
      ]
     },
     "execution_count": 44,
     "metadata": {},
     "output_type": "execute_result"
    },
    {
     "data": {
      "image/png": "[encoded data removed]",
      "text/plain": [
       "<Figure size 1368x360 with 3 Axes>"
      ]
     },
     "metadata": {
      "needs_background": "light"
     },
     "output_type": "display_data"
    }
   ],
   "source": [
    "# Revenue\n",
    "f, axes = plt.subplots(1, 3, figsize=(19, 5))\n",
    "\n",
    "sb.boxplot(data = numDF[\"revenue\"], orient = \"h\", ax = axes[0])\n",
    "sb.histplot(data = numDF[\"revenue\"], ax = axes[1])\n",
    "sb.violinplot(data = numDF[\"revenue\"], orient = \"h\", ax = axes[2])"
   ]
  },
  {
   "cell_type": "markdown",
   "metadata": {},
   "source": [
    "**Analysis Univariate Plot of Revenue:**\n",
    "- There seems to be a significant number of outliers according to the box-plot.\n",
    "- The plots suggests that the distribution is heavily skewed.\n",
    "- The plots indicates that 50% of the data lies approximately ranges from 0 to 0.18x10^9."
   ]
  },
  {
   "cell_type": "code",
   "execution_count": 45,
   "metadata": {},
   "outputs": [
    {
     "data": {
      "text/plain": [
       "<AxesSubplot:>"
      ]
     },
     "execution_count": 45,
     "metadata": {},
     "output_type": "execute_result"
    },
    {
     "data": {
      "image/png": "[encoded data removed]",
      "text/plain": [
       "<Figure size 1368x360 with 3 Axes>"
      ]
     },
     "metadata": {
      "needs_background": "light"
     },
     "output_type": "display_data"
    }
   ],
   "source": [
    "# Runtime\n",
    "f, axes = plt.subplots(1, 3, figsize=(19, 5))\n",
    "\n",
    "sb.boxplot(data = numDF[\"runtime\"], orient = \"h\", ax = axes[0])\n",
    "sb.histplot(data = numDF[\"runtime\"], ax = axes[1])\n",
    "sb.violinplot(data = numDF[\"runtime\"], orient = \"h\", ax = axes[2])"
   ]
  },
  {
   "cell_type": "markdown",
   "metadata": {},
   "source": [
    "**Analysis Univariate Plot of Runtime:**\n",
    "- There seems to be a small number of outliers according to the box-plot.\n",
    "- The plots suggests that the distribution is rather evenly distributed.\n",
    "- The plots indicates that 50% of the data lies approximately between 90 to 120."
   ]
  },
  {
   "cell_type": "markdown",
   "metadata": {},
   "source": [
    "#### Categorical Variables"
   ]
  },
  {
   "cell_type": "code",
   "execution_count": 46,
   "metadata": {},
   "outputs": [
    {
     "name": "stderr",
     "output_type": "stream",
     "text": [
      "C:\\Users\\User\\anaconda3\\lib\\site-packages\\pandas\\io\\formats\\format.py:1405: FutureWarning: Index.ravel returning ndarray is deprecated; in a future version this will return a view on self.\n",
      "  for val, m in zip(values.ravel(), mask.ravel())\n",
      "C:\\Users\\User\\anaconda3\\lib\\site-packages\\pandas\\io\\formats\\format.py:1405: FutureWarning: Index.ravel returning ndarray is deprecated; in a future version this will return a view on self.\n",
      "  for val, m in zip(values.ravel(), mask.ravel())\n"
     ]
    },
    {
     "data": {
      "text/plain": [
       "<seaborn.axisgrid.FacetGrid at 0x175e6019b50>"
      ]
     },
     "execution_count": 46,
     "metadata": {},
     "output_type": "execute_result"
    },
    {
     "data": {
      "image/png": "[encoded data removed]",
      "text/plain": [
       "<Figure size 576x576 with 1 Axes>"
      ]
     },
     "metadata": {
      "needs_background": "light"
     },
     "output_type": "display_data"
    }
   ],
   "source": [
    "# Release Month\n",
    "sb.catplot(y = 'release_month', data = df, kind = \"count\", height = 8)"
   ]
  },
  {
   "cell_type": "markdown",
   "metadata": {},
   "source": [
    "**Analysis Univariate Plot of Release Month:**\n",
    "- It seems like more movies are released during Semptember, and least movies released in April.\n",
    "- More movies tend to be released towards the end of the year."
   ]
  },
  {
   "cell_type": "code",
   "execution_count": 47,
   "metadata": {},
   "outputs": [
    {
     "data": {
      "text/plain": [
       "<seaborn.axisgrid.FacetGrid at 0x175e63656d0>"
      ]
     },
     "execution_count": 47,
     "metadata": {},
     "output_type": "execute_result"
    },
    {
     "data": {
      "image/png": "[encoded data removed]",
      "text/plain": [
       "<Figure size 576x576 with 1 Axes>"
      ]
     },
     "metadata": {
      "needs_background": "light"
     },
     "output_type": "display_data"
    }
   ],
   "source": [
    "sb.catplot(y = 'original_language', data = df, kind = \"count\", height = 8)"
   ]
  },
  {
   "cell_type": "markdown",
   "metadata": {},
   "source": [
    "**Analysis Univariate Plot of Original Language:**\n",
    "- There is an overwhelming number of English movies compared to non-English movies. This could indicate that it is a determining factor in predicting revenue."
   ]
  },
  {
   "cell_type": "markdown",
   "metadata": {},
   "source": [
    "### Multivariate Statistical Analysis\n",
    ">Let's plot the variables against each other."
   ]
  },
  {
   "cell_type": "markdown",
   "metadata": {},
   "source": [
    "### Pearson's Correlation \n",
    ">Let's do a correlation plot between the variables to find out how it affects each other."
   ]
  },
  {
   "cell_type": "code",
   "execution_count": 48,
   "metadata": {
    "id": "I3lxkEBUBU6a"
   },
   "outputs": [
    {
     "data": {
      "text/html": [
       "<div>\n",
       "<style scoped>\n",
       "    .dataframe tbody tr th:only-of-type {\n",
       "        vertical-align: middle;\n",
       "    }\n",
       "\n",
       "    .dataframe tbody tr th {\n",
       "        vertical-align: top;\n",
       "    }\n",
       "\n",
       "    .dataframe thead th {\n",
       "        text-align: right;\n",
       "    }\n",
       "</style>\n",
       "<table border=\"1\" class=\"dataframe\">\n",
       "  <thead>\n",
       "    <tr style=\"text-align: right;\">\n",
       "      <th></th>\n",
       "      <th>budget</th>\n",
       "      <th>popularity</th>\n",
       "      <th>vote_count</th>\n",
       "      <th>revenue</th>\n",
       "      <th>runtime</th>\n",
       "    </tr>\n",
       "  </thead>\n",
       "  <tbody>\n",
       "    <tr>\n",
       "      <th>budget</th>\n",
       "      <td>1.000000</td>\n",
       "      <td>0.355458</td>\n",
       "      <td>0.442899</td>\n",
       "      <td>0.666383</td>\n",
       "      <td>0.191361</td>\n",
       "    </tr>\n",
       "    <tr>\n",
       "      <th>popularity</th>\n",
       "      <td>0.355458</td>\n",
       "      <td>1.000000</td>\n",
       "      <td>0.460285</td>\n",
       "      <td>0.450695</td>\n",
       "      <td>0.109649</td>\n",
       "    </tr>\n",
       "    <tr>\n",
       "      <th>vote_count</th>\n",
       "      <td>0.442899</td>\n",
       "      <td>0.460285</td>\n",
       "      <td>1.000000</td>\n",
       "      <td>0.652486</td>\n",
       "      <td>0.279683</td>\n",
       "    </tr>\n",
       "    <tr>\n",
       "      <th>revenue</th>\n",
       "      <td>0.666383</td>\n",
       "      <td>0.450695</td>\n",
       "      <td>0.652486</td>\n",
       "      <td>1.000000</td>\n",
       "      <td>0.131958</td>\n",
       "    </tr>\n",
       "    <tr>\n",
       "      <th>runtime</th>\n",
       "      <td>0.191361</td>\n",
       "      <td>0.109649</td>\n",
       "      <td>0.279683</td>\n",
       "      <td>0.131958</td>\n",
       "      <td>1.000000</td>\n",
       "    </tr>\n",
       "  </tbody>\n",
       "</table>\n",
       "</div>"
      ],
      "text/plain": [
       "              budget  popularity  vote_count   revenue   runtime\n",
       "budget      1.000000    0.355458    0.442899  0.666383  0.191361\n",
       "popularity  0.355458    1.000000    0.460285  0.450695  0.109649\n",
       "vote_count  0.442899    0.460285    1.000000  0.652486  0.279683\n",
       "revenue     0.666383    0.450695    0.652486  1.000000  0.131958\n",
       "runtime     0.191361    0.109649    0.279683  0.131958  1.000000"
      ]
     },
     "execution_count": 48,
     "metadata": {},
     "output_type": "execute_result"
    }
   ],
   "source": [
    "# Calculate the complete correlation matrix\n",
    "numDF.corr()"
   ]
  },
  {
   "cell_type": "markdown",
   "metadata": {},
   "source": [
    ">For better visualisation, let's plot it with a heatmap."
   ]
  },
  {
   "cell_type": "code",
   "execution_count": 49,
   "metadata": {},
   "outputs": [
    {
     "data": {
      "text/plain": [
       "<AxesSubplot:>"
      ]
     },
     "execution_count": 49,
     "metadata": {},
     "output_type": "execute_result"
    },
    {
     "data": {
      "image/png": "[encoded data removed]",
      "text/plain": [
       "<Figure size 864x864 with 2 Axes>"
      ]
     },
     "metadata": {
      "needs_background": "light"
     },
     "output_type": "display_data"
    }
   ],
   "source": [
    "# Heatmap of the Correlation Matrix\n",
    "f = plt.figure(figsize=(12, 12))\n",
    "sb.heatmap(numDF.corr(), vmin = -1, vmax = 1, annot = True, fmt = \".2f\")"
   ]
  },
  {
   "cell_type": "markdown",
   "metadata": {
    "id": "X1Gk87MiaqPg"
   },
   "source": [
    ">Correlation Matrix and Heatmap only tells us the correlation value, therefore, to see the actual spread, we shall use a pairplot."
   ]
  },
  {
   "cell_type": "code",
   "execution_count": 50,
   "metadata": {
    "id": "u9sey38-BUxo"
   },
   "outputs": [
    {
     "data": {
      "text/plain": [
       "<seaborn.axisgrid.PairGrid at 0x175e6362c40>"
      ]
     },
     "execution_count": 50,
     "metadata": {},
     "output_type": "execute_result"
    },
    {
     "data": {
      "image/png": "[encoded data removed]",
      "text/plain": [
       "<Figure size 900x900 with 30 Axes>"
      ]
     },
     "metadata": {
      "needs_background": "light"
     },
     "output_type": "display_data"
    }
   ],
   "source": [
    "# Draw pairs of variables against one another\n",
    "sb.pairplot(data = numDF)"
   ]
  },
  {
   "cell_type": "markdown",
   "metadata": {},
   "source": [
    "**Analysis Of Correlation Matrix:**\n",
    "- Budget vs Revenue: Strong Positive Correlation\n",
    "- Popularity vs Revenue: Slight Positive Correlation\n",
    "- Vote Count vs Revenue: Strong Positive Correlation\n",
    "- Runtime vs Revenue: Very Weak Positive Correlation"
   ]
  },
  {
   "cell_type": "markdown",
   "metadata": {},
   "source": [
    "**The correlation indicates that Budget and Vote Count are potentially useful variables to predict revenue, whereas runtime is not as useful in predicting revenue.**"
   ]
  },
  {
   "cell_type": "markdown",
   "metadata": {},
   "source": [
    "### Boxplots Of Release Month Against Revenue\n",
    ">Plotting of Categorical against Numerical Data, allows us to compare the spread of revenue against other months."
   ]
  },
  {
   "cell_type": "code",
   "execution_count": 51,
   "metadata": {
    "id": "44LqNyrLrVYF"
   },
   "outputs": [
    {
     "data": {
      "text/plain": [
       "<AxesSubplot:xlabel='release_month', ylabel='revenue'>"
      ]
     },
     "execution_count": 51,
     "metadata": {},
     "output_type": "execute_result"
    },
    {
     "data": {
      "image/png": "[encoded data removed]",
      "text/plain": [
       "<Figure size 1152x576 with 1 Axes>"
      ]
     },
     "metadata": {
      "needs_background": "light"
     },
     "output_type": "display_data"
    }
   ],
   "source": [
    "f = plt.figure(figsize=(16, 8))\n",
    "sb.boxplot(x = 'release_month', y = 'revenue', data = df)"
   ]
  },
  {
   "cell_type": "markdown",
   "metadata": {},
   "source": [
    "**Analysis Of Release Month Against Revenue:**\n",
    "- The spread of the revenue in June is the widest as compared to April, which has the smallest spread.\n",
    "- April have the lowest median, while March have the highest median.\n",
    "- January and February / November and December have rather similar spread and median value. \n",
    "\n",
    "**All these does indicate that release_month could be useful in predicting movie revenue**"
   ]
  },
  {
   "cell_type": "markdown",
   "metadata": {},
   "source": [
    "## 3. Explore Machine Learning with Random Forest Regressor"
   ]
  },
  {
   "cell_type": "markdown",
   "metadata": {},
   "source": [
    ">Extracting relevant predictors to predict our response variable (revenue)."
   ]
  },
  {
   "cell_type": "code",
   "execution_count": 73,
   "metadata": {
    "id": "KBzbJT3sah4V"
   },
   "outputs": [],
   "source": [
    "# Response Dataset\n",
    "response = pd.DataFrame(df[\"revenue\"])\n",
    "predictors = pd.DataFrame(df[[\"genre_list_one_hot\", \"original_language\", \"release_month\", \"vote_count\", \"budget\"]])"
   ]
  },
  {
   "cell_type": "code",
   "execution_count": 89,
   "metadata": {
    "id": "MZjrhd6qS9vi"
   },
   "outputs": [],
   "source": [
    "from sklearn.model_selection import train_test_split\n",
    "\n",
    "# Splitting into test and train data\n",
    "X_train, X_test, y_train, y_test = train_test_split(predictors, response, test_size=0.36)"
   ]
  },
  {
   "cell_type": "markdown",
   "metadata": {
    "id": "ehApGRX_D1YR"
   },
   "source": [
    "### Random Forest Regressor\n",
    ">Fitting into Random Forest Regressor."
   ]
  },
  {
   "cell_type": "code",
   "execution_count": 90,
   "metadata": {
    "id": "_NiMMbe3S6PV"
   },
   "outputs": [],
   "source": [
    "from sklearn.ensemble import RandomForestRegressor\n",
    "\n",
    "regressor = RandomForestRegressor(n_estimators=200) # n_estimators refers to the number of trees\n",
    "regressor.fit(X_train, y_train.values.ravel())\n",
    "y_pred = regressor.predict(X_test)"
   ]
  },
  {
   "cell_type": "markdown",
   "metadata": {
    "id": "yYeaFawCDude"
   },
   "source": [
    "### Model Accuracy\n",
    ">Analysis of Model Accuracy. "
   ]
  },
  {
   "cell_type": "code",
   "execution_count": 91,
   "metadata": {
    "id": "TQsNF7SxDq5h"
   },
   "outputs": [
    {
     "name": "stdout",
     "output_type": "stream",
     "text": [
      "Mean Absolute Error: 47947978.49686551\n",
      "Mean Squared Error: 6676593464262172.0\n",
      "Root Mean Squared Error: 81710424.45283327\n",
      "Explained Variance (R^2) on Test Set \t: 0.7253553872485714\n"
     ]
    }
   ],
   "source": [
    "from sklearn import metrics\n",
    "\n",
    "print('Mean Absolute Error:', metrics.mean_absolute_error(y_test, y_pred))\n",
    "print('Mean Squared Error:', metrics.mean_squared_error(y_test, y_pred))\n",
    "print('Root Mean Squared Error:', np.sqrt(metrics.mean_squared_error(y_test, y_pred)))\n",
    "print(\"Explained Variance (R^2) on Test Set \\t:\", regressor.score(X_test, y_test))"
   ]
  },
  {
   "cell_type": "markdown",
   "metadata": {
    "id": "go8ujUGgGb2l"
   },
   "source": [
    "## 4. Predictions\n",
    ">Now, let's see how well our model fair against other data that the model have not seen before."
   ]
  },
  {
   "cell_type": "code",
   "execution_count": 144,
   "metadata": {
    "id": "3OnA3eZQqLUw"
   },
   "outputs": [],
   "source": [
    "# Initialise an empty dataframe\n",
    "columns = [\"film\", \"release_date\", \"revenue\", \"budget\", \"popularity\", \"vote_count\", \"runtime\", \"genres\", \"adult\", \"original_language\"]\n",
    "df_pred = pd.DataFrame(columns=columns)\n",
    "dfTemp = pd.DataFrame(columns=columns)"
   ]
  },
  {
   "cell_type": "markdown",
   "metadata": {},
   "source": [
    ">Extraction of data from new pages."
   ]
  },
  {
   "cell_type": "code",
   "execution_count": 229,
   "metadata": {
    "id": "FzmJ2DdDqLUx"
   },
   "outputs": [],
   "source": [
    "for pageNum in range(40, 45):\n",
    "    i = i + 1;\n",
    "    # Call new page to get list of movies\n",
    "    response = requests.get(\"https://api.themoviedb.org/3/discover/movie?api_key=34ec81365605658080e05ea53cbf69f2&language=en-US&include_adult=false&include_video=false&page=\" + str(pageNum))\n",
    "\n",
    "    # Store the parsed JSON\n",
    "    listMovies = response.json()\n",
    "\n",
    "    # Get list of movies \n",
    "    listMovies = listMovies['results']\n",
    "    \n",
    "    for movie in listMovies:\n",
    "        # Get the details of a specific movie\n",
    "        movie_details = requests.get('https://api.themoviedb.org/3/movie/'+ str(movie['id']) +'?api_key='+ '34ec81365605658080e05ea53cbf69f2'+'&language=en-US')\n",
    "        movie_details = movie_details.json()\n",
    "        \n",
    "        # Append entry into the dataframe\n",
    "        dfTemp.loc[len(dfTemp)]=[movie['title'], movie_details[\"release_date\"], movie_details['revenue'], movie_details['budget'], movie_details[\"popularity\"], movie_details[\"vote_count\"],\\\n",
    "movie_details[\"runtime\"], movie_details[\"genres\"], movie_details[\"adult\"], movie_details[\"original_language\"]]\n",
    "    \n",
    "    # concat temp dataframe into master\n",
    "    df_pred = pd.concat([df_pred, dfTemp])\n",
    "\n",
    "    # empty the temp dataframe\n",
    "    dfTemp = dfTemp[0:0]"
   ]
  },
  {
   "cell_type": "markdown",
   "metadata": {},
   "source": [
    ">Ensure the newly extracted does not clash with original data."
   ]
  },
  {
   "cell_type": "code",
   "execution_count": 230,
   "metadata": {
    "id": "YAWW4bYRqm8F"
   },
   "outputs": [
    {
     "name": "stdout",
     "output_type": "stream",
     "text": [
      "Row(s) removed: \n",
      "\n",
      "13\n",
      "\n"
     ]
    }
   ],
   "source": [
    "1# Reset the index\n",
    "df_pred.reset_index(drop=True, inplace=True)\n",
    "\n",
    "# print the dataframe\n",
    "df_pred.head\n",
    "\n",
    "df_pred2 = df_pred.copy()\n",
    "\n",
    "# removal of potential movie duplicates\n",
    "print(\"Row(s) removed: \\n\")\n",
    "for row in range(len(df_pred)):\n",
    "  for row2 in range(len(df)):\n",
    "    if df_pred.film.iloc[row] == df.film.iloc[row2]:\n",
    "      df_pred2 = df_pred2.drop(df_pred2.index[row])\n",
    "      print(\"{}\\n\".format(i))\n",
    "      break\n",
    "\n",
    "df_pred = df_pred2.copy()\n",
    "df_pred.reset_index(drop=True, inplace=True)"
   ]
  },
  {
   "cell_type": "markdown",
   "metadata": {},
   "source": [
    ">Ensure all the data is valid."
   ]
  },
  {
   "cell_type": "code",
   "execution_count": 231,
   "metadata": {
    "id": "gHLz9-mgrdW1"
   },
   "outputs": [
    {
     "data": {
      "text/html": [
       "<div>\n",
       "<style scoped>\n",
       "    .dataframe tbody tr th:only-of-type {\n",
       "        vertical-align: middle;\n",
       "    }\n",
       "\n",
       "    .dataframe tbody tr th {\n",
       "        vertical-align: top;\n",
       "    }\n",
       "\n",
       "    .dataframe thead th {\n",
       "        text-align: right;\n",
       "    }\n",
       "</style>\n",
       "<table border=\"1\" class=\"dataframe\">\n",
       "  <thead>\n",
       "    <tr style=\"text-align: right;\">\n",
       "      <th></th>\n",
       "      <th>film</th>\n",
       "      <th>release_month</th>\n",
       "      <th>budget</th>\n",
       "      <th>vote_count</th>\n",
       "      <th>original_language</th>\n",
       "      <th>genre_list</th>\n",
       "      <th>release_date</th>\n",
       "      <th>revenue</th>\n",
       "      <th>popularity</th>\n",
       "      <th>runtime</th>\n",
       "      <th>genres</th>\n",
       "      <th>adult</th>\n",
       "    </tr>\n",
       "  </thead>\n",
       "  <tbody>\n",
       "    <tr>\n",
       "      <th>0</th>\n",
       "      <td>The Gentlemen</td>\n",
       "      <td>12.0</td>\n",
       "      <td>22000000</td>\n",
       "      <td>3107</td>\n",
       "      <td>1</td>\n",
       "      <td>[Action, Comedy, Crime]</td>\n",
       "      <td>NaN</td>\n",
       "      <td>NaN</td>\n",
       "      <td>NaN</td>\n",
       "      <td>NaN</td>\n",
       "      <td>NaN</td>\n",
       "      <td>NaN</td>\n",
       "    </tr>\n",
       "    <tr>\n",
       "      <th>1</th>\n",
       "      <td>Crawl</td>\n",
       "      <td>7.0</td>\n",
       "      <td>13500000</td>\n",
       "      <td>2045</td>\n",
       "      <td>1</td>\n",
       "      <td>[Drama, Horror, Thriller]</td>\n",
       "      <td>NaN</td>\n",
       "      <td>NaN</td>\n",
       "      <td>NaN</td>\n",
       "      <td>NaN</td>\n",
       "      <td>NaN</td>\n",
       "      <td>NaN</td>\n",
       "    </tr>\n",
       "    <tr>\n",
       "      <th>2</th>\n",
       "      <td>Charlie's Angels</td>\n",
       "      <td>11.0</td>\n",
       "      <td>48000000</td>\n",
       "      <td>1985</td>\n",
       "      <td>1</td>\n",
       "      <td>[Action, Adventure, Comedy]</td>\n",
       "      <td>NaN</td>\n",
       "      <td>NaN</td>\n",
       "      <td>NaN</td>\n",
       "      <td>NaN</td>\n",
       "      <td>NaN</td>\n",
       "      <td>NaN</td>\n",
       "    </tr>\n",
       "    <tr>\n",
       "      <th>3</th>\n",
       "      <td>Frozen II</td>\n",
       "      <td>11.0</td>\n",
       "      <td>150000000</td>\n",
       "      <td>7233</td>\n",
       "      <td>1</td>\n",
       "      <td>[Adventure, Animation, Comedy, Family, Fantasy...</td>\n",
       "      <td>NaN</td>\n",
       "      <td>NaN</td>\n",
       "      <td>NaN</td>\n",
       "      <td>NaN</td>\n",
       "      <td>NaN</td>\n",
       "      <td>NaN</td>\n",
       "    </tr>\n",
       "    <tr>\n",
       "      <th>4</th>\n",
       "      <td>The Meg</td>\n",
       "      <td>8.0</td>\n",
       "      <td>150000000</td>\n",
       "      <td>5057</td>\n",
       "      <td>1</td>\n",
       "      <td>[Action, Horror, Science Fiction]</td>\n",
       "      <td>NaN</td>\n",
       "      <td>NaN</td>\n",
       "      <td>NaN</td>\n",
       "      <td>NaN</td>\n",
       "      <td>NaN</td>\n",
       "      <td>NaN</td>\n",
       "    </tr>\n",
       "  </tbody>\n",
       "</table>\n",
       "</div>"
      ],
      "text/plain": [
       "               film release_month     budget vote_count original_language  \\\n",
       "0     The Gentlemen          12.0   22000000       3107                 1   \n",
       "1             Crawl           7.0   13500000       2045                 1   \n",
       "2  Charlie's Angels          11.0   48000000       1985                 1   \n",
       "3         Frozen II          11.0  150000000       7233                 1   \n",
       "4           The Meg           8.0  150000000       5057                 1   \n",
       "\n",
       "                                          genre_list release_date revenue  \\\n",
       "0                            [Action, Comedy, Crime]          NaN     NaN   \n",
       "1                          [Drama, Horror, Thriller]          NaN     NaN   \n",
       "2                        [Action, Adventure, Comedy]          NaN     NaN   \n",
       "3  [Adventure, Animation, Comedy, Family, Fantasy...          NaN     NaN   \n",
       "4                  [Action, Horror, Science Fiction]          NaN     NaN   \n",
       "\n",
       "   popularity runtime genres adult  \n",
       "0         NaN     NaN    NaN   NaN  \n",
       "1         NaN     NaN    NaN   NaN  \n",
       "2         NaN     NaN    NaN   NaN  \n",
       "3         NaN     NaN    NaN   NaN  \n",
       "4         NaN     NaN    NaN   NaN  "
      ]
     },
     "execution_count": 231,
     "metadata": {},
     "output_type": "execute_result"
    }
   ],
   "source": [
    "df_pred = df_pred.drop_duplicates(subset=['film'])\n",
    "\n",
    "# Data cleaning: remove rows with revenue == 0\n",
    "df_pred = df_pred[df_pred.revenue != 0]\n",
    "\n",
    "# Data cleaning: remove rows with runtime == 0\n",
    "df_pred = df_pred[df_pred.budget != 0]\n",
    "\n",
    "# Data cleaning: remove rows with runtime == 0\n",
    "df_pred = df_pred[df_pred.popularity != 0]\n",
    "\n",
    "# Data cleaning: remove rows with runtime == 0\n",
    "df_pred = df_pred[df_pred.vote_count != 0]\n",
    "\n",
    "# Data cleaning: remove rows with runtime == 0\n",
    "df_pred = df_pred[df_pred.runtime != 0]\n",
    "# print dataframe after data cleaning\n",
    "df_pred.reset_index(drop=True, inplace=True)\n",
    "df_pred.head()"
   ]
  },
  {
   "cell_type": "markdown",
   "metadata": {},
   "source": [
    ">Extract release_month and release_year."
   ]
  },
  {
   "cell_type": "code",
   "execution_count": 232,
   "metadata": {
    "id": "OG3uRBZ7qm8V"
   },
   "outputs": [],
   "source": [
    "# Extract release_month and release_year\n",
    "df_pred['release_month'] = pd.DatetimeIndex(df_pred['release_date']).month\n",
    "df_pred['release_year'] = pd.DatetimeIndex(df_pred['release_date']).year\n",
    "df_pred = df_pred[[\"film\", \"release_date\", \"release_year\", \"release_month\", \"revenue\", \"budget\", \"popularity\", \"vote_count\", \"runtime\", \"genres\", \"adult\", \"original_language\"]]\n",
    "\n",
    "df_pred[\"release_month\"] = df_pred[\"release_month\"].astype('category')"
   ]
  },
  {
   "cell_type": "markdown",
   "metadata": {
    "id": "Zxjy3wGtWjv5"
   },
   "source": [
    ">Keep movies that are only released after 2010."
   ]
  },
  {
   "cell_type": "code",
   "execution_count": 233,
   "metadata": {
    "id": "5MfRZqkqqm8Z"
   },
   "outputs": [],
   "source": [
    "df_pred = df_pred[df_pred.release_year >= 2010]"
   ]
  },
  {
   "cell_type": "markdown",
   "metadata": {},
   "source": [
    ">Convert relevant data to 'int64' data type."
   ]
  },
  {
   "cell_type": "code",
   "execution_count": 234,
   "metadata": {
    "id": "RIf2ImZfqm8e"
   },
   "outputs": [],
   "source": [
    "# Converting to int64\n",
    "df_pred['revenue'] = df_pred['revenue'].astype('int64')\n",
    "# Coverting to int64\n",
    "df_pred['budget'] = df_pred['budget'].astype('int64')\n",
    "df_pred['vote_count'] = df_pred['vote_count'].astype('int64')\n",
    "df_pred[\"runtime\"] = df_pred[\"runtime\"].astype('int64')"
   ]
  },
  {
   "cell_type": "markdown",
   "metadata": {
    "id": "U9-fid0IWp-L"
   },
   "source": [
    ">Drop adult."
   ]
  },
  {
   "cell_type": "code",
   "execution_count": 235,
   "metadata": {
    "id": "gtmU5T53qm8m"
   },
   "outputs": [],
   "source": [
    "df_pred= df_pred.drop(columns=[\"adult\"])"
   ]
  },
  {
   "cell_type": "markdown",
   "metadata": {
    "id": "rTu52_0Zqm8n"
   },
   "source": [
    ">Convert language to Boolean."
   ]
  },
  {
   "cell_type": "code",
   "execution_count": 236,
   "metadata": {
    "id": "5rtEl3_cqm8o"
   },
   "outputs": [],
   "source": [
    "df_pred[\"original_language\"] = np.where(df_pred[\"original_language\"].str.contains(\"en\"), 1, 0)\n",
    "\n",
    "df_pred[\"original_language\"] = df_pred[\"original_language\"].astype('category')\n",
    "\n",
    "# Reset the index\n",
    "df_pred.reset_index(drop=True, inplace=True)"
   ]
  },
  {
   "cell_type": "markdown",
   "metadata": {
    "id": "FFBT3_QHqm8p"
   },
   "source": [
    ">Genre manipulation."
   ]
  },
  {
   "cell_type": "code",
   "execution_count": 237,
   "metadata": {
    "id": "elyZ1Xlqqm8q"
   },
   "outputs": [],
   "source": [
    "dfplay = df_pred.copy()\n",
    "\n",
    "dfep = pd.DataFrame(dfplay['genres'])\n",
    "\n",
    "genre_list = ['Action', 'Adventure', 'Animation', 'Comedy', 'Crime', 'Documentary', 'Drama', 'Family', 'Fantasy', 'History', 'Horror', 'Music', 'Mystery', 'Romance', 'Science Fiction',\\\n",
    "'Thriller', 'TV Movie', 'War', 'Western']\n",
    "genre_list.sort\n",
    "\n",
    "dfObj = pd.DataFrame(columns=['genre_list'])\n",
    "\n",
    "for column in dfep[['genres']]:\n",
    "  columnSeriesObj = dfep[column]\n",
    "  columnSeriesObj = list(columnSeriesObj)\n",
    "\n",
    "  for i in range(len(columnSeriesObj)):\n",
    "    a = []\n",
    "    j = len(columnSeriesObj[i])\n",
    "    for k in range(j):\n",
    "      a.append(columnSeriesObj[i][k]['name'])\n",
    "    a = sorted(a)     \n",
    "    dfObj = dfObj.append({'genre_list': a}, ignore_index=True)\n",
    "\n",
    "\n",
    "# creates dataframe for encoded values\n",
    "dfObj_enc = pd.DataFrame(columns=['genre_list_one_hot'])\n",
    "\n",
    "# performs one-hot encoding\n",
    "for cat in range(len(columnSeriesObj)):\n",
    "  total = ''\n",
    "  cat_index = 0\n",
    "  str_len = 1\n",
    "  length = len(dfObj.genre_list.iloc[cat])\n",
    "  if length == 0:\n",
    "    total = '0000000000000000000'\n",
    "    dfObj_enc = dfObj_enc.append({'genre_list_one_hot': total}, ignore_index=True)\n",
    "    continue\n",
    "  for index in range(len(genre_list)):\n",
    "    if dfObj.genre_list.iloc[cat][cat_index] == genre_list[index]:\n",
    "      total += '1'\n",
    "      cat_index += 1\n",
    "    else:\n",
    "      total += '0'\n",
    "    if cat_index == length:\n",
    "      break\n",
    "    str_len += 1\n",
    "  for remain in range(len(genre_list) - str_len):\n",
    "    total += '0' \n",
    "  dfObj_enc = dfObj_enc.append({'genre_list_one_hot': total}, ignore_index=True)\n",
    "\n",
    "# concatenates dataframes\n",
    "dfObj = pd.concat([dfObj, dfObj_enc], axis=1)\n",
    "df_pred = pd.concat([df_pred,dfObj], axis = 1)\n",
    "\n",
    "# changing one-hot encoded values to categorical data\n",
    "df_pred['genre_list_one_hot'] = df_pred['genre_list_one_hot'].astype('category')"
   ]
  },
  {
   "cell_type": "markdown",
   "metadata": {},
   "source": [
    ">Predicting newly extracted data."
   ]
  },
  {
   "cell_type": "code",
   "execution_count": 238,
   "metadata": {},
   "outputs": [],
   "source": [
    "# Response Dataset\n",
    "response = pd.DataFrame(df_pred[\"revenue\"])\n",
    "predictors_pred = pd.DataFrame(df_pred[[\"genre_list_one_hot\", \"original_language\", \"release_month\", \"vote_count\", \"budget\"]])"
   ]
  },
  {
   "cell_type": "code",
   "execution_count": 239,
   "metadata": {
    "id": "DCMBgUeWIgP7"
   },
   "outputs": [
    {
     "data": {
      "text/plain": [
       "array([4.73395631e+08, 8.73780487e+08, 6.09939649e+08, 2.50461361e+08,\n",
       "       2.82839374e+07, 1.58656837e+07, 5.49619918e+07, 2.06740844e+08,\n",
       "       3.03176204e+08, 8.11068577e+08, 6.36753305e+07, 4.59723882e+07,\n",
       "       5.69739891e+08, 7.45193308e+06, 6.65194822e+08, 1.35318732e+07,\n",
       "       2.22962053e+08, 3.95894506e+07, 5.02307285e+08, 8.79666015e+08,\n",
       "       7.70703570e+08, 2.82076757e+08, 7.75901624e+06, 2.57455610e+08,\n",
       "       7.60128495e+06, 8.12433324e+06, 5.09393647e+08, 6.19025635e+08,\n",
       "       3.50519653e+08, 1.15781411e+08, 4.48846351e+08, 5.51465518e+08,\n",
       "       2.52329336e+08, 1.38702207e+08])"
      ]
     },
     "execution_count": 239,
     "metadata": {},
     "output_type": "execute_result"
    }
   ],
   "source": [
    "# Predict Revenue\n",
    "revenue_pred = regressor.predict(predictors_pred)\n",
    "revenue_pred"
   ]
  },
  {
   "cell_type": "markdown",
   "metadata": {},
   "source": [
    ">Based on the movies we have predicted, it looks like we have pretty good predictions. Most of our percentage of errors are less than 20%. This could be attributed to our R^2 value being relatively near 1. There are however some exceptions to the predictions where we get huge errors. This could be attrributed to movies with very low revenue."
   ]
  },
  {
   "cell_type": "code",
   "execution_count": 240,
   "metadata": {},
   "outputs": [
    {
     "data": {
      "text/html": [
       "<div>\n",
       "<style scoped>\n",
       "    .dataframe tbody tr th:only-of-type {\n",
       "        vertical-align: middle;\n",
       "    }\n",
       "\n",
       "    .dataframe tbody tr th {\n",
       "        vertical-align: top;\n",
       "    }\n",
       "\n",
       "    .dataframe thead th {\n",
       "        text-align: right;\n",
       "    }\n",
       "</style>\n",
       "<table border=\"1\" class=\"dataframe\">\n",
       "  <thead>\n",
       "    <tr style=\"text-align: right;\">\n",
       "      <th></th>\n",
       "      <th>film</th>\n",
       "      <th>revenue</th>\n",
       "      <th>PredRevenue</th>\n",
       "      <th>Error</th>\n",
       "    </tr>\n",
       "  </thead>\n",
       "  <tbody>\n",
       "    <tr>\n",
       "      <th>0</th>\n",
       "      <td>Mile 22</td>\n",
       "      <td>66308758</td>\n",
       "      <td>63675330.5</td>\n",
       "      <td>4.0</td>\n",
       "    </tr>\n",
       "    <tr>\n",
       "      <th>1</th>\n",
       "      <td>Fantastic Beasts and Where to Find Them</td>\n",
       "      <td>809342332</td>\n",
       "      <td>770703570.4</td>\n",
       "      <td>4.8</td>\n",
       "    </tr>\n",
       "    <tr>\n",
       "      <th>2</th>\n",
       "      <td>The Angry Birds Movie 2</td>\n",
       "      <td>131359052</td>\n",
       "      <td>138702207.4</td>\n",
       "      <td>5.6</td>\n",
       "    </tr>\n",
       "    <tr>\n",
       "      <th>3</th>\n",
       "      <td>Dunkirk</td>\n",
       "      <td>525573161</td>\n",
       "      <td>569739891.2</td>\n",
       "      <td>8.4</td>\n",
       "    </tr>\n",
       "    <tr>\n",
       "      <th>4</th>\n",
       "      <td>How to Train Your Dragon 2</td>\n",
       "      <td>609123048</td>\n",
       "      <td>665194822.2</td>\n",
       "      <td>9.2</td>\n",
       "    </tr>\n",
       "    <tr>\n",
       "      <th>5</th>\n",
       "      <td>How to Train Your Dragon</td>\n",
       "      <td>494878759</td>\n",
       "      <td>551465518.3</td>\n",
       "      <td>11.4</td>\n",
       "    </tr>\n",
       "    <tr>\n",
       "      <th>6</th>\n",
       "      <td>Love &amp; Other Drugs</td>\n",
       "      <td>102820008</td>\n",
       "      <td>115781410.6</td>\n",
       "      <td>12.6</td>\n",
       "    </tr>\n",
       "    <tr>\n",
       "      <th>7</th>\n",
       "      <td>The Amazing Spider-Man</td>\n",
       "      <td>757930663</td>\n",
       "      <td>879666014.8</td>\n",
       "      <td>16.1</td>\n",
       "    </tr>\n",
       "    <tr>\n",
       "      <th>8</th>\n",
       "      <td>Monsters University</td>\n",
       "      <td>743559607</td>\n",
       "      <td>619025635.0</td>\n",
       "      <td>16.7</td>\n",
       "    </tr>\n",
       "    <tr>\n",
       "      <th>9</th>\n",
       "      <td>Real Steel</td>\n",
       "      <td>299268508</td>\n",
       "      <td>350519652.6</td>\n",
       "      <td>17.1</td>\n",
       "    </tr>\n",
       "    <tr>\n",
       "      <th>10</th>\n",
       "      <td>12 Strong</td>\n",
       "      <td>67450815</td>\n",
       "      <td>54961991.8</td>\n",
       "      <td>18.5</td>\n",
       "    </tr>\n",
       "    <tr>\n",
       "      <th>11</th>\n",
       "      <td>The Dark Knight Rises</td>\n",
       "      <td>1081041287</td>\n",
       "      <td>811068577.3</td>\n",
       "      <td>25.0</td>\n",
       "    </tr>\n",
       "    <tr>\n",
       "      <th>12</th>\n",
       "      <td>Solo: A Star Wars Story</td>\n",
       "      <td>392952373</td>\n",
       "      <td>502307284.5</td>\n",
       "      <td>27.8</td>\n",
       "    </tr>\n",
       "    <tr>\n",
       "      <th>13</th>\n",
       "      <td>Dawn of the Planet of the Apes</td>\n",
       "      <td>710644566</td>\n",
       "      <td>509393647.4</td>\n",
       "      <td>28.3</td>\n",
       "    </tr>\n",
       "    <tr>\n",
       "      <th>14</th>\n",
       "      <td>The Equalizer</td>\n",
       "      <td>192330738</td>\n",
       "      <td>250461361.4</td>\n",
       "      <td>30.2</td>\n",
       "    </tr>\n",
       "    <tr>\n",
       "      <th>15</th>\n",
       "      <td>Baby Driver</td>\n",
       "      <td>226945087</td>\n",
       "      <td>303176203.8</td>\n",
       "      <td>33.6</td>\n",
       "    </tr>\n",
       "    <tr>\n",
       "      <th>16</th>\n",
       "      <td>Rio</td>\n",
       "      <td>484635760</td>\n",
       "      <td>282076756.7</td>\n",
       "      <td>41.8</td>\n",
       "    </tr>\n",
       "    <tr>\n",
       "      <th>17</th>\n",
       "      <td>Toy Story 3</td>\n",
       "      <td>1066969703</td>\n",
       "      <td>609939649.2</td>\n",
       "      <td>42.8</td>\n",
       "    </tr>\n",
       "    <tr>\n",
       "      <th>18</th>\n",
       "      <td>Power Rangers</td>\n",
       "      <td>142337240</td>\n",
       "      <td>206740844.3</td>\n",
       "      <td>45.2</td>\n",
       "    </tr>\n",
       "    <tr>\n",
       "      <th>19</th>\n",
       "      <td>The Grinch</td>\n",
       "      <td>508575295</td>\n",
       "      <td>222962053.2</td>\n",
       "      <td>56.2</td>\n",
       "    </tr>\n",
       "    <tr>\n",
       "      <th>20</th>\n",
       "      <td>Star Wars: The Force Awakens</td>\n",
       "      <td>2068223624</td>\n",
       "      <td>873780487.0</td>\n",
       "      <td>57.8</td>\n",
       "    </tr>\n",
       "    <tr>\n",
       "      <th>21</th>\n",
       "      <td>Insurgent</td>\n",
       "      <td>295238201</td>\n",
       "      <td>473395631.5</td>\n",
       "      <td>60.3</td>\n",
       "    </tr>\n",
       "    <tr>\n",
       "      <th>22</th>\n",
       "      <td>The Curse of La Llorona</td>\n",
       "      <td>122033739</td>\n",
       "      <td>45972388.2</td>\n",
       "      <td>62.3</td>\n",
       "    </tr>\n",
       "    <tr>\n",
       "      <th>23</th>\n",
       "      <td>It</td>\n",
       "      <td>701796444</td>\n",
       "      <td>257455610.3</td>\n",
       "      <td>63.3</td>\n",
       "    </tr>\n",
       "    <tr>\n",
       "      <th>24</th>\n",
       "      <td>A Haunted House</td>\n",
       "      <td>60141683</td>\n",
       "      <td>15865683.7</td>\n",
       "      <td>73.6</td>\n",
       "    </tr>\n",
       "    <tr>\n",
       "      <th>25</th>\n",
       "      <td>Paranormal Activity: Tokyo Night</td>\n",
       "      <td>4160000</td>\n",
       "      <td>7601285.0</td>\n",
       "      <td>82.7</td>\n",
       "    </tr>\n",
       "    <tr>\n",
       "      <th>26</th>\n",
       "      <td>The Infiltrator</td>\n",
       "      <td>21011110</td>\n",
       "      <td>39589450.6</td>\n",
       "      <td>88.4</td>\n",
       "    </tr>\n",
       "    <tr>\n",
       "      <th>27</th>\n",
       "      <td>The Call of the Wild</td>\n",
       "      <td>107604626</td>\n",
       "      <td>252329336.2</td>\n",
       "      <td>134.5</td>\n",
       "    </tr>\n",
       "    <tr>\n",
       "      <th>28</th>\n",
       "      <td>Baywatch</td>\n",
       "      <td>177856751</td>\n",
       "      <td>448846351.4</td>\n",
       "      <td>152.4</td>\n",
       "    </tr>\n",
       "    <tr>\n",
       "      <th>29</th>\n",
       "      <td>Kin</td>\n",
       "      <td>10023153</td>\n",
       "      <td>28283937.4</td>\n",
       "      <td>182.2</td>\n",
       "    </tr>\n",
       "    <tr>\n",
       "      <th>30</th>\n",
       "      <td>4x4</td>\n",
       "      <td>1292773</td>\n",
       "      <td>7451933.1</td>\n",
       "      <td>476.4</td>\n",
       "    </tr>\n",
       "    <tr>\n",
       "      <th>31</th>\n",
       "      <td>Minari</td>\n",
       "      <td>485158</td>\n",
       "      <td>8124333.2</td>\n",
       "      <td>1574.6</td>\n",
       "    </tr>\n",
       "    <tr>\n",
       "      <th>32</th>\n",
       "      <td>Megalodon</td>\n",
       "      <td>5303</td>\n",
       "      <td>7759016.2</td>\n",
       "      <td>146213.7</td>\n",
       "    </tr>\n",
       "    <tr>\n",
       "      <th>33</th>\n",
       "      <td>The Duel</td>\n",
       "      <td>4500</td>\n",
       "      <td>13531873.2</td>\n",
       "      <td>300608.3</td>\n",
       "    </tr>\n",
       "  </tbody>\n",
       "</table>\n",
       "</div>"
      ],
      "text/plain": [
       "                                       film     revenue  PredRevenue     Error\n",
       "0                                   Mile 22    66308758   63675330.5       4.0\n",
       "1   Fantastic Beasts and Where to Find Them   809342332  770703570.4       4.8\n",
       "2                   The Angry Birds Movie 2   131359052  138702207.4       5.6\n",
       "3                                   Dunkirk   525573161  569739891.2       8.4\n",
       "4                How to Train Your Dragon 2   609123048  665194822.2       9.2\n",
       "5                  How to Train Your Dragon   494878759  551465518.3      11.4\n",
       "6                        Love & Other Drugs   102820008  115781410.6      12.6\n",
       "7                    The Amazing Spider-Man   757930663  879666014.8      16.1\n",
       "8                       Monsters University   743559607  619025635.0      16.7\n",
       "9                                Real Steel   299268508  350519652.6      17.1\n",
       "10                                12 Strong    67450815   54961991.8      18.5\n",
       "11                    The Dark Knight Rises  1081041287  811068577.3      25.0\n",
       "12                  Solo: A Star Wars Story   392952373  502307284.5      27.8\n",
       "13           Dawn of the Planet of the Apes   710644566  509393647.4      28.3\n",
       "14                            The Equalizer   192330738  250461361.4      30.2\n",
       "15                              Baby Driver   226945087  303176203.8      33.6\n",
       "16                                      Rio   484635760  282076756.7      41.8\n",
       "17                              Toy Story 3  1066969703  609939649.2      42.8\n",
       "18                            Power Rangers   142337240  206740844.3      45.2\n",
       "19                               The Grinch   508575295  222962053.2      56.2\n",
       "20             Star Wars: The Force Awakens  2068223624  873780487.0      57.8\n",
       "21                                Insurgent   295238201  473395631.5      60.3\n",
       "22                  The Curse of La Llorona   122033739   45972388.2      62.3\n",
       "23                                       It   701796444  257455610.3      63.3\n",
       "24                          A Haunted House    60141683   15865683.7      73.6\n",
       "25         Paranormal Activity: Tokyo Night     4160000    7601285.0      82.7\n",
       "26                          The Infiltrator    21011110   39589450.6      88.4\n",
       "27                     The Call of the Wild   107604626  252329336.2     134.5\n",
       "28                                 Baywatch   177856751  448846351.4     152.4\n",
       "29                                      Kin    10023153   28283937.4     182.2\n",
       "30                                      4x4     1292773    7451933.1     476.4\n",
       "31                                   Minari      485158    8124333.2    1574.6\n",
       "32                                Megalodon        5303    7759016.2  146213.7\n",
       "33                                 The Duel        4500   13531873.2  300608.3"
      ]
     },
     "execution_count": 240,
     "metadata": {},
     "output_type": "execute_result"
    }
   ],
   "source": [
    "# Summarize the Actuals, Predictions and Errors\n",
    "revenue_pred = pd.DataFrame(revenue_pred, columns = [\"PredRevenue\"], index = df_pred.index)\n",
    "revenue_acc = pd.concat([df_pred[[\"film\", \"revenue\"]], revenue_pred], axis = 1)\n",
    "# We're calculating the percentage of error made here, error = [(Actual - predicted)/(Actual)] * 100%\n",
    "y_errs = 100 * abs ( ( revenue_acc[\"revenue\"] - revenue_acc[\"PredRevenue\"] ) / revenue_acc[\"revenue\"] )\n",
    "y_errs = pd.DataFrame(y_errs, columns = [\"Error\"], index = df_pred.index)\n",
    "revenue_acc = pd.concat([revenue_acc, y_errs], axis = 1)\n",
    "revenue_acc['Error'] = revenue_acc['Error'].apply(lambda x: f\"{x:.1f}\")\n",
    "revenue_acc['PredRevenue'] = revenue_acc['PredRevenue'].apply(lambda x: f'{x:.1f}')\n",
    "revenue_acc['Error'] = revenue_acc['Error'].astype('float64')\n",
    "\n",
    "revenue_acc = revenue_acc.sort_values(by='Error')\n",
    "\n",
    "# Reset the index\n",
    "revenue_acc.reset_index(drop=True, inplace=True)\n",
    "revenue_acc"
   ]
  },
  {
   "cell_type": "code",
   "execution_count": 241,
   "metadata": {},
   "outputs": [
    {
     "data": {
      "text/html": [
       "<div>\n",
       "<style scoped>\n",
       "    .dataframe tbody tr th:only-of-type {\n",
       "        vertical-align: middle;\n",
       "    }\n",
       "\n",
       "    .dataframe tbody tr th {\n",
       "        vertical-align: top;\n",
       "    }\n",
       "\n",
       "    .dataframe thead th {\n",
       "        text-align: right;\n",
       "    }\n",
       "</style>\n",
       "<table border=\"1\" class=\"dataframe\">\n",
       "  <thead>\n",
       "    <tr style=\"text-align: right;\">\n",
       "      <th></th>\n",
       "      <th>film</th>\n",
       "      <th>release_month</th>\n",
       "      <th>budget</th>\n",
       "      <th>vote_count</th>\n",
       "      <th>genre_list</th>\n",
       "      <th>original_language</th>\n",
       "      <th>revenue</th>\n",
       "      <th>PredRevenue</th>\n",
       "      <th>Error</th>\n",
       "    </tr>\n",
       "  </thead>\n",
       "  <tbody>\n",
       "    <tr>\n",
       "      <th>0</th>\n",
       "      <td>Power Rangers</td>\n",
       "      <td>3.0</td>\n",
       "      <td>100000000</td>\n",
       "      <td>3550</td>\n",
       "      <td>[Action, Adventure, Science Fiction]</td>\n",
       "      <td>1</td>\n",
       "      <td>757930663</td>\n",
       "      <td>879666014.8</td>\n",
       "      <td>16.1</td>\n",
       "    </tr>\n",
       "    <tr>\n",
       "      <th>1</th>\n",
       "      <td>Fantastic Beasts and Where to Find Them</td>\n",
       "      <td>11.0</td>\n",
       "      <td>180000000</td>\n",
       "      <td>15235</td>\n",
       "      <td>[Adventure, Fantasy]</td>\n",
       "      <td>1</td>\n",
       "      <td>2068223624</td>\n",
       "      <td>873780487.0</td>\n",
       "      <td>57.8</td>\n",
       "    </tr>\n",
       "    <tr>\n",
       "      <th>2</th>\n",
       "      <td>How to Train Your Dragon</td>\n",
       "      <td>3.0</td>\n",
       "      <td>165000000</td>\n",
       "      <td>9919</td>\n",
       "      <td>[Adventure, Animation, Family, Fantasy]</td>\n",
       "      <td>1</td>\n",
       "      <td>485158</td>\n",
       "      <td>8124333.2</td>\n",
       "      <td>1574.6</td>\n",
       "    </tr>\n",
       "    <tr>\n",
       "      <th>3</th>\n",
       "      <td>The Curse of La Llorona</td>\n",
       "      <td>4.0</td>\n",
       "      <td>9000000</td>\n",
       "      <td>1565</td>\n",
       "      <td>[Horror, Mystery, Thriller]</td>\n",
       "      <td>1</td>\n",
       "      <td>1081041287</td>\n",
       "      <td>811068577.3</td>\n",
       "      <td>25.0</td>\n",
       "    </tr>\n",
       "    <tr>\n",
       "      <th>4</th>\n",
       "      <td>The Call of the Wild</td>\n",
       "      <td>2.0</td>\n",
       "      <td>109000000</td>\n",
       "      <td>2423</td>\n",
       "      <td>[Adventure, Drama, Family]</td>\n",
       "      <td>1</td>\n",
       "      <td>5303</td>\n",
       "      <td>7759016.2</td>\n",
       "      <td>146213.7</td>\n",
       "    </tr>\n",
       "    <tr>\n",
       "      <th>5</th>\n",
       "      <td>Star Wars: The Force Awakens</td>\n",
       "      <td>12.0</td>\n",
       "      <td>245000000</td>\n",
       "      <td>15670</td>\n",
       "      <td>[Action, Adventure, Fantasy, Science Fiction]</td>\n",
       "      <td>1</td>\n",
       "      <td>809342332</td>\n",
       "      <td>770703570.4</td>\n",
       "      <td>4.8</td>\n",
       "    </tr>\n",
       "    <tr>\n",
       "      <th>6</th>\n",
       "      <td>Minari</td>\n",
       "      <td>2.0</td>\n",
       "      <td>2000000</td>\n",
       "      <td>233</td>\n",
       "      <td>[Drama]</td>\n",
       "      <td>1</td>\n",
       "      <td>4160000</td>\n",
       "      <td>7601285.0</td>\n",
       "      <td>82.7</td>\n",
       "    </tr>\n",
       "    <tr>\n",
       "      <th>7</th>\n",
       "      <td>Baywatch</td>\n",
       "      <td>5.0</td>\n",
       "      <td>69000000</td>\n",
       "      <td>6315</td>\n",
       "      <td>[Action, Comedy, Crime]</td>\n",
       "      <td>1</td>\n",
       "      <td>1292773</td>\n",
       "      <td>7451933.1</td>\n",
       "      <td>476.4</td>\n",
       "    </tr>\n",
       "    <tr>\n",
       "      <th>8</th>\n",
       "      <td>Kin</td>\n",
       "      <td>8.0</td>\n",
       "      <td>30000000</td>\n",
       "      <td>549</td>\n",
       "      <td>[Action, Science Fiction]</td>\n",
       "      <td>1</td>\n",
       "      <td>609123048</td>\n",
       "      <td>665194822.2</td>\n",
       "      <td>9.2</td>\n",
       "    </tr>\n",
       "    <tr>\n",
       "      <th>9</th>\n",
       "      <td>Insurgent</td>\n",
       "      <td>3.0</td>\n",
       "      <td>110000000</td>\n",
       "      <td>8297</td>\n",
       "      <td>[Action, Adventure, Science Fiction, Thriller]</td>\n",
       "      <td>1</td>\n",
       "      <td>66308758</td>\n",
       "      <td>63675330.5</td>\n",
       "      <td>4.0</td>\n",
       "    </tr>\n",
       "    <tr>\n",
       "      <th>10</th>\n",
       "      <td>Baby Driver</td>\n",
       "      <td>6.0</td>\n",
       "      <td>34000000</td>\n",
       "      <td>11722</td>\n",
       "      <td>[Action, Crime]</td>\n",
       "      <td>1</td>\n",
       "      <td>743559607</td>\n",
       "      <td>619025635.0</td>\n",
       "      <td>16.7</td>\n",
       "    </tr>\n",
       "    <tr>\n",
       "      <th>11</th>\n",
       "      <td>The Infiltrator</td>\n",
       "      <td>7.0</td>\n",
       "      <td>28000000</td>\n",
       "      <td>1269</td>\n",
       "      <td>[Crime, Drama, Thriller]</td>\n",
       "      <td>1</td>\n",
       "      <td>1066969703</td>\n",
       "      <td>609939649.2</td>\n",
       "      <td>42.8</td>\n",
       "    </tr>\n",
       "    <tr>\n",
       "      <th>12</th>\n",
       "      <td>The Equalizer</td>\n",
       "      <td>9.0</td>\n",
       "      <td>55000000</td>\n",
       "      <td>6510</td>\n",
       "      <td>[Action, Crime, Thriller]</td>\n",
       "      <td>1</td>\n",
       "      <td>525573161</td>\n",
       "      <td>569739891.2</td>\n",
       "      <td>8.4</td>\n",
       "    </tr>\n",
       "    <tr>\n",
       "      <th>13</th>\n",
       "      <td>A Haunted House</td>\n",
       "      <td>1.0</td>\n",
       "      <td>2500000</td>\n",
       "      <td>1241</td>\n",
       "      <td>[Comedy, Horror]</td>\n",
       "      <td>1</td>\n",
       "      <td>494878759</td>\n",
       "      <td>551465518.3</td>\n",
       "      <td>11.4</td>\n",
       "    </tr>\n",
       "    <tr>\n",
       "      <th>14</th>\n",
       "      <td>Mile 22</td>\n",
       "      <td>8.0</td>\n",
       "      <td>35000000</td>\n",
       "      <td>1585</td>\n",
       "      <td>[Action, Thriller]</td>\n",
       "      <td>1</td>\n",
       "      <td>67450815</td>\n",
       "      <td>54961991.8</td>\n",
       "      <td>18.5</td>\n",
       "    </tr>\n",
       "    <tr>\n",
       "      <th>15</th>\n",
       "      <td>4x4</td>\n",
       "      <td>4.0</td>\n",
       "      <td>3000000</td>\n",
       "      <td>54</td>\n",
       "      <td>[Drama, Thriller]</td>\n",
       "      <td>0</td>\n",
       "      <td>710644566</td>\n",
       "      <td>509393647.4</td>\n",
       "      <td>28.3</td>\n",
       "    </tr>\n",
       "    <tr>\n",
       "      <th>16</th>\n",
       "      <td>Dunkirk</td>\n",
       "      <td>7.0</td>\n",
       "      <td>100000000</td>\n",
       "      <td>12686</td>\n",
       "      <td>[Action, Drama, War]</td>\n",
       "      <td>1</td>\n",
       "      <td>392952373</td>\n",
       "      <td>502307284.5</td>\n",
       "      <td>27.8</td>\n",
       "    </tr>\n",
       "    <tr>\n",
       "      <th>17</th>\n",
       "      <td>Rio</td>\n",
       "      <td>4.0</td>\n",
       "      <td>90000000</td>\n",
       "      <td>4975</td>\n",
       "      <td>[Adventure, Animation, Comedy, Family]</td>\n",
       "      <td>1</td>\n",
       "      <td>295238201</td>\n",
       "      <td>473395631.5</td>\n",
       "      <td>60.3</td>\n",
       "    </tr>\n",
       "    <tr>\n",
       "      <th>18</th>\n",
       "      <td>Megalodon</td>\n",
       "      <td>8.0</td>\n",
       "      <td>130178</td>\n",
       "      <td>173</td>\n",
       "      <td>[Action, Horror, Science Fiction, TV Movie]</td>\n",
       "      <td>1</td>\n",
       "      <td>122033739</td>\n",
       "      <td>45972388.2</td>\n",
       "      <td>62.3</td>\n",
       "    </tr>\n",
       "    <tr>\n",
       "      <th>19</th>\n",
       "      <td>Real Steel</td>\n",
       "      <td>9.0</td>\n",
       "      <td>110000000</td>\n",
       "      <td>5958</td>\n",
       "      <td>[Action, Drama, Science Fiction]</td>\n",
       "      <td>1</td>\n",
       "      <td>177856751</td>\n",
       "      <td>448846351.4</td>\n",
       "      <td>152.4</td>\n",
       "    </tr>\n",
       "    <tr>\n",
       "      <th>20</th>\n",
       "      <td>Dawn of the Planet of the Apes</td>\n",
       "      <td>6.0</td>\n",
       "      <td>170000000</td>\n",
       "      <td>8701</td>\n",
       "      <td>[Action, Drama, Science Fiction, Thriller]</td>\n",
       "      <td>1</td>\n",
       "      <td>21011110</td>\n",
       "      <td>39589450.6</td>\n",
       "      <td>88.4</td>\n",
       "    </tr>\n",
       "    <tr>\n",
       "      <th>21</th>\n",
       "      <td>The Dark Knight Rises</td>\n",
       "      <td>7.0</td>\n",
       "      <td>250000000</td>\n",
       "      <td>17609</td>\n",
       "      <td>[Action, Crime, Drama, Thriller]</td>\n",
       "      <td>1</td>\n",
       "      <td>299268508</td>\n",
       "      <td>350519652.6</td>\n",
       "      <td>17.1</td>\n",
       "    </tr>\n",
       "    <tr>\n",
       "      <th>22</th>\n",
       "      <td>The Duel</td>\n",
       "      <td>6.0</td>\n",
       "      <td>10000000</td>\n",
       "      <td>244</td>\n",
       "      <td>[Drama, Western]</td>\n",
       "      <td>1</td>\n",
       "      <td>226945087</td>\n",
       "      <td>303176203.8</td>\n",
       "      <td>33.6</td>\n",
       "    </tr>\n",
       "    <tr>\n",
       "      <th>23</th>\n",
       "      <td>Love &amp; Other Drugs</td>\n",
       "      <td>11.0</td>\n",
       "      <td>30000000</td>\n",
       "      <td>3688</td>\n",
       "      <td>[Comedy, Drama, Romance]</td>\n",
       "      <td>1</td>\n",
       "      <td>10023153</td>\n",
       "      <td>28283937.4</td>\n",
       "      <td>182.2</td>\n",
       "    </tr>\n",
       "    <tr>\n",
       "      <th>24</th>\n",
       "      <td>The Grinch</td>\n",
       "      <td>11.0</td>\n",
       "      <td>75000000</td>\n",
       "      <td>2530</td>\n",
       "      <td>[Animation, Comedy, Family, Fantasy]</td>\n",
       "      <td>1</td>\n",
       "      <td>484635760</td>\n",
       "      <td>282076756.7</td>\n",
       "      <td>41.8</td>\n",
       "    </tr>\n",
       "    <tr>\n",
       "      <th>25</th>\n",
       "      <td>It</td>\n",
       "      <td>9.0</td>\n",
       "      <td>35000000</td>\n",
       "      <td>15029</td>\n",
       "      <td>[Horror]</td>\n",
       "      <td>1</td>\n",
       "      <td>701796444</td>\n",
       "      <td>257455610.3</td>\n",
       "      <td>63.3</td>\n",
       "    </tr>\n",
       "    <tr>\n",
       "      <th>26</th>\n",
       "      <td>Monsters University</td>\n",
       "      <td>6.0</td>\n",
       "      <td>200000000</td>\n",
       "      <td>8227</td>\n",
       "      <td>[Animation, Family]</td>\n",
       "      <td>1</td>\n",
       "      <td>107604626</td>\n",
       "      <td>252329336.2</td>\n",
       "      <td>134.5</td>\n",
       "    </tr>\n",
       "    <tr>\n",
       "      <th>27</th>\n",
       "      <td>How to Train Your Dragon 2</td>\n",
       "      <td>6.0</td>\n",
       "      <td>145000000</td>\n",
       "      <td>7352</td>\n",
       "      <td>[Action, Adventure, Animation, Comedy, Family,...</td>\n",
       "      <td>1</td>\n",
       "      <td>192330738</td>\n",
       "      <td>250461361.4</td>\n",
       "      <td>30.2</td>\n",
       "    </tr>\n",
       "    <tr>\n",
       "      <th>28</th>\n",
       "      <td>The Amazing Spider-Man</td>\n",
       "      <td>6.0</td>\n",
       "      <td>215000000</td>\n",
       "      <td>12749</td>\n",
       "      <td>[Action, Adventure, Fantasy]</td>\n",
       "      <td>1</td>\n",
       "      <td>508575295</td>\n",
       "      <td>222962053.2</td>\n",
       "      <td>56.2</td>\n",
       "    </tr>\n",
       "    <tr>\n",
       "      <th>29</th>\n",
       "      <td>Solo: A Star Wars Story</td>\n",
       "      <td>5.0</td>\n",
       "      <td>250000000</td>\n",
       "      <td>6184</td>\n",
       "      <td>[Adventure, Science Fiction]</td>\n",
       "      <td>1</td>\n",
       "      <td>142337240</td>\n",
       "      <td>206740844.3</td>\n",
       "      <td>45.2</td>\n",
       "    </tr>\n",
       "    <tr>\n",
       "      <th>30</th>\n",
       "      <td>Paranormal Activity: Tokyo Night</td>\n",
       "      <td>11.0</td>\n",
       "      <td>1350000</td>\n",
       "      <td>287</td>\n",
       "      <td>[Horror, Thriller]</td>\n",
       "      <td>0</td>\n",
       "      <td>60141683</td>\n",
       "      <td>15865683.7</td>\n",
       "      <td>73.6</td>\n",
       "    </tr>\n",
       "    <tr>\n",
       "      <th>31</th>\n",
       "      <td>Toy Story 3</td>\n",
       "      <td>6.0</td>\n",
       "      <td>200000000</td>\n",
       "      <td>11296</td>\n",
       "      <td>[Animation, Comedy, Family]</td>\n",
       "      <td>1</td>\n",
       "      <td>131359052</td>\n",
       "      <td>138702207.4</td>\n",
       "      <td>5.6</td>\n",
       "    </tr>\n",
       "    <tr>\n",
       "      <th>32</th>\n",
       "      <td>The Angry Birds Movie 2</td>\n",
       "      <td>8.0</td>\n",
       "      <td>65000000</td>\n",
       "      <td>1021</td>\n",
       "      <td>[Adventure, Animation, Comedy, Family]</td>\n",
       "      <td>1</td>\n",
       "      <td>4500</td>\n",
       "      <td>13531873.2</td>\n",
       "      <td>300608.3</td>\n",
       "    </tr>\n",
       "    <tr>\n",
       "      <th>33</th>\n",
       "      <td>12 Strong</td>\n",
       "      <td>1.0</td>\n",
       "      <td>35000000</td>\n",
       "      <td>2061</td>\n",
       "      <td>[Action, Drama, History, War]</td>\n",
       "      <td>1</td>\n",
       "      <td>102820008</td>\n",
       "      <td>115781410.6</td>\n",
       "      <td>12.6</td>\n",
       "    </tr>\n",
       "  </tbody>\n",
       "</table>\n",
       "</div>"
      ],
      "text/plain": [
       "                                       film release_month     budget  \\\n",
       "0                             Power Rangers           3.0  100000000   \n",
       "1   Fantastic Beasts and Where to Find Them          11.0  180000000   \n",
       "2                  How to Train Your Dragon           3.0  165000000   \n",
       "3                   The Curse of La Llorona           4.0    9000000   \n",
       "4                      The Call of the Wild           2.0  109000000   \n",
       "5              Star Wars: The Force Awakens          12.0  245000000   \n",
       "6                                    Minari           2.0    2000000   \n",
       "7                                  Baywatch           5.0   69000000   \n",
       "8                                       Kin           8.0   30000000   \n",
       "9                                 Insurgent           3.0  110000000   \n",
       "10                              Baby Driver           6.0   34000000   \n",
       "11                          The Infiltrator           7.0   28000000   \n",
       "12                            The Equalizer           9.0   55000000   \n",
       "13                          A Haunted House           1.0    2500000   \n",
       "14                                  Mile 22           8.0   35000000   \n",
       "15                                      4x4           4.0    3000000   \n",
       "16                                  Dunkirk           7.0  100000000   \n",
       "17                                      Rio           4.0   90000000   \n",
       "18                                Megalodon           8.0     130178   \n",
       "19                               Real Steel           9.0  110000000   \n",
       "20           Dawn of the Planet of the Apes           6.0  170000000   \n",
       "21                    The Dark Knight Rises           7.0  250000000   \n",
       "22                                 The Duel           6.0   10000000   \n",
       "23                       Love & Other Drugs          11.0   30000000   \n",
       "24                               The Grinch          11.0   75000000   \n",
       "25                                       It           9.0   35000000   \n",
       "26                      Monsters University           6.0  200000000   \n",
       "27               How to Train Your Dragon 2           6.0  145000000   \n",
       "28                   The Amazing Spider-Man           6.0  215000000   \n",
       "29                  Solo: A Star Wars Story           5.0  250000000   \n",
       "30         Paranormal Activity: Tokyo Night          11.0    1350000   \n",
       "31                              Toy Story 3           6.0  200000000   \n",
       "32                  The Angry Birds Movie 2           8.0   65000000   \n",
       "33                                12 Strong           1.0   35000000   \n",
       "\n",
       "    vote_count                                         genre_list  \\\n",
       "0         3550               [Action, Adventure, Science Fiction]   \n",
       "1        15235                               [Adventure, Fantasy]   \n",
       "2         9919            [Adventure, Animation, Family, Fantasy]   \n",
       "3         1565                        [Horror, Mystery, Thriller]   \n",
       "4         2423                         [Adventure, Drama, Family]   \n",
       "5        15670      [Action, Adventure, Fantasy, Science Fiction]   \n",
       "6          233                                            [Drama]   \n",
       "7         6315                            [Action, Comedy, Crime]   \n",
       "8          549                          [Action, Science Fiction]   \n",
       "9         8297     [Action, Adventure, Science Fiction, Thriller]   \n",
       "10       11722                                    [Action, Crime]   \n",
       "11        1269                           [Crime, Drama, Thriller]   \n",
       "12        6510                          [Action, Crime, Thriller]   \n",
       "13        1241                                   [Comedy, Horror]   \n",
       "14        1585                                 [Action, Thriller]   \n",
       "15          54                                  [Drama, Thriller]   \n",
       "16       12686                               [Action, Drama, War]   \n",
       "17        4975             [Adventure, Animation, Comedy, Family]   \n",
       "18         173        [Action, Horror, Science Fiction, TV Movie]   \n",
       "19        5958                   [Action, Drama, Science Fiction]   \n",
       "20        8701         [Action, Drama, Science Fiction, Thriller]   \n",
       "21       17609                   [Action, Crime, Drama, Thriller]   \n",
       "22         244                                   [Drama, Western]   \n",
       "23        3688                           [Comedy, Drama, Romance]   \n",
       "24        2530               [Animation, Comedy, Family, Fantasy]   \n",
       "25       15029                                           [Horror]   \n",
       "26        8227                                [Animation, Family]   \n",
       "27        7352  [Action, Adventure, Animation, Comedy, Family,...   \n",
       "28       12749                       [Action, Adventure, Fantasy]   \n",
       "29        6184                       [Adventure, Science Fiction]   \n",
       "30         287                                 [Horror, Thriller]   \n",
       "31       11296                        [Animation, Comedy, Family]   \n",
       "32        1021             [Adventure, Animation, Comedy, Family]   \n",
       "33        2061                      [Action, Drama, History, War]   \n",
       "\n",
       "   original_language     revenue  PredRevenue     Error  \n",
       "0                  1   757930663  879666014.8      16.1  \n",
       "1                  1  2068223624  873780487.0      57.8  \n",
       "2                  1      485158    8124333.2    1574.6  \n",
       "3                  1  1081041287  811068577.3      25.0  \n",
       "4                  1        5303    7759016.2  146213.7  \n",
       "5                  1   809342332  770703570.4       4.8  \n",
       "6                  1     4160000    7601285.0      82.7  \n",
       "7                  1     1292773    7451933.1     476.4  \n",
       "8                  1   609123048  665194822.2       9.2  \n",
       "9                  1    66308758   63675330.5       4.0  \n",
       "10                 1   743559607  619025635.0      16.7  \n",
       "11                 1  1066969703  609939649.2      42.8  \n",
       "12                 1   525573161  569739891.2       8.4  \n",
       "13                 1   494878759  551465518.3      11.4  \n",
       "14                 1    67450815   54961991.8      18.5  \n",
       "15                 0   710644566  509393647.4      28.3  \n",
       "16                 1   392952373  502307284.5      27.8  \n",
       "17                 1   295238201  473395631.5      60.3  \n",
       "18                 1   122033739   45972388.2      62.3  \n",
       "19                 1   177856751  448846351.4     152.4  \n",
       "20                 1    21011110   39589450.6      88.4  \n",
       "21                 1   299268508  350519652.6      17.1  \n",
       "22                 1   226945087  303176203.8      33.6  \n",
       "23                 1    10023153   28283937.4     182.2  \n",
       "24                 1   484635760  282076756.7      41.8  \n",
       "25                 1   701796444  257455610.3      63.3  \n",
       "26                 1   107604626  252329336.2     134.5  \n",
       "27                 1   192330738  250461361.4      30.2  \n",
       "28                 1   508575295  222962053.2      56.2  \n",
       "29                 1   142337240  206740844.3      45.2  \n",
       "30                 0    60141683   15865683.7      73.6  \n",
       "31                 1   131359052  138702207.4       5.6  \n",
       "32                 1        4500   13531873.2  300608.3  \n",
       "33                 1   102820008  115781410.6      12.6  "
      ]
     },
     "execution_count": 241,
     "metadata": {},
     "output_type": "execute_result"
    }
   ],
   "source": [
    "df_pred = df_pred.drop([\"release_date\", \"release_year\", 'runtime', 'genres', 'genre_list_one_hot', 'revenue', 'popularity'], axis=1)\n",
    "revenue_acc = revenue_acc.drop([\"film\"], axis=1)\n",
    "df_finale = pd.concat([df_pred, revenue_acc], axis=1)\n",
    "df_finale = df_finale[[\"film\", \"release_month\", \"budget\", \"vote_count\", \"genre_list\", \"original_language\", \\\n",
    "'revenue', 'PredRevenue', 'Error']]\n",
    "\n",
    "df_finale = df_finale.sort_values(by='PredRevenue', ascending=False)\n",
    "\n",
    "# Reset the index\n",
    "df_finale.reset_index(drop=True, inplace=True)\n",
    "\n",
    "df_finale"
   ]
  },
  {
   "cell_type": "code",
   "execution_count": null,
   "metadata": {},
   "outputs": [],
   "source": []
  }
 ],
 "metadata": {
  "colab": {
   "collapsed_sections": [],
   "name": "DSAI forest.ipynb",
   "provenance": []
  },
  "kernelspec": {
   "display_name": "Python 3",
   "language": "python",
   "name": "python3"
  },
  "language_info": {
   "codemirror_mode": {
    "name": "ipython",
    "version": 3
   },
   "file_extension": ".py",
   "mimetype": "text/x-python",
   "name": "python",
   "nbconvert_exporter": "python",
   "pygments_lexer": "ipython3",
   "version": "3.8.5"
  }
 },
 "nbformat": 4,
 "nbformat_minor": 1
}
